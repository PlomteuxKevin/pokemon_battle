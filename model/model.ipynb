{
 "cells": [
  {
   "cell_type": "markdown",
   "id": "9beb5048-84d0-452b-9270-54a824b450e8",
   "metadata": {},
   "source": [
    "\n",
    "<div align=\"center\">\n",
    "    <img src=\"./images/logo.png\">\n",
    "</div>\n",
    "\n",
    "# Définition du projet\n",
    "## Un défi Kaggle\n",
    "Ce projet à été trouvé sur Kaggle : https://www.kaggle.com/datasets/terminus7/pokemon-challenge/  \n",
    "On y retrouve les 3 datasets utilisés pour le défi.\n",
    "### Description des datasets\n",
    "+ **pokedex.csv** : liste des 800 Pokémon jusqu'à la 7ieme génération, ainsi que leurs caractéristiques (FOR, DEF, ATK SPE, PV,...)\n",
    "+ **combats.csv** : liste des combats Pokémon (# index dans le Pokédex) et le vainqeur du combat.\n",
    "+ **tests.csv** : donnée de test pour le modèle. Identique à combat.csv mais sans le vainqueur.\n",
    "## Les Pokémon\n",
    "Pokémon est une franchise médiatique créée par Satoshi Tajiri et Ken Sugimori. Elle a été introduite pour la première fois au Japon en 1996 en tant que jeu vidéo par Nintendo, Game Freak et Creatures. Depuis lors, elle s'est étendue pour inclure une variété de produits, notamment des jeux vidéo, une série télévisée animée, des films, des jouets, des cartes à collectionner et des livres.\n",
    "### Créatures Pokémon\n",
    "Pokémon est le terme général pour les 800+ créatures distinctes qui apparaissent dans la franchise. Chaque Pokémon a son propre nom, type (comme feu, eau, plante, etc.), et des capacités spéciales.\n",
    "### Combats Pokémon\n",
    "Les dresseurs peuvent faire combattre leurs Pokémon contre d'autres Pokémon sauvages ou ceux d'autres dresseurs. Les combats sont généralement au tour par tour, où chaque Pokémon utilise des attaques ou des mouvements pour infliger des dégâts ou effectuer d'autres actions stratégiques. Chaques dresseurs à le droit à avoir un maximum de 6 Pokémon dans son équipe. Le premier dresseur choisi le Pokemon qui va commencer le combat. C'est en suite à son adverser de choisir l'un de ces Pokemon. Bien évidement celui qui choisi en 2ieme à la possibilité de prendre un Pokemon qui \"contre\" celui de son adversaire.\n",
    "## Le modèle\n",
    "Ce modèle à pour objectif de prédire quel est le Pokémon de son équipe qui à le plus de chance de remporter un combat, selon le Pokémon du desseur adverse. Un Pokémon sera donné en entrée et le modèle prédira quel sera le meilleur pokémon pour le vaincre.\n",
    "\n",
    "# Préparation des données\n",
    "## Import des modules python"
   ]
  },
  {
   "cell_type": "code",
   "execution_count": 17,
   "id": "aea72580-c88d-447c-92b3-c15c129a3cb1",
   "metadata": {
    "tags": []
   },
   "outputs": [],
   "source": [
    "import numpy as np\n",
    "import pandas as pd\n",
    "import matplotlib.pyplot as plt\n",
    "import seaborn as sns\n",
    "\n",
    "from pitch_class import Pitch\n",
    "\n",
    "import xgboost as xgb\n",
    "from sklearn.metrics import accuracy_score, log_loss\n",
    "from sklearn.model_selection import cross_val_score\n",
    "\n",
    "from joblib import dump, load\n",
    "\n",
    "plt.rcParams['figure.facecolor'] = '#282c34'\n",
    "plt.rcParams['axes.facecolor'] = '#282c34'  # Couleur de fond des axes\n",
    "plt.rcParams['axes.edgecolor'] = '#999999'  # Couleur des bordures des axes\n",
    "plt.rcParams['axes.labelcolor'] = '#999999'  # Couleur des étiquettes des axes\n",
    "plt.rcParams['xtick.color'] = '#999999'  # Couleur des ticks sur l'axe des x\n",
    "plt.rcParams['ytick.color'] = '#999999'  # Couleur des ticks sur l'axe des y\n",
    "plt.rcParams['text.color'] = '#999999'"
   ]
  },
  {
   "cell_type": "markdown",
   "id": "9980cc42-765e-4a68-81b0-802047dc4358",
   "metadata": {},
   "source": [
    "## Importation des datasets\n",
    "### pokedex.csv\n",
    "J'ai fait le choix d'utiliser le Pokedex en anglais (celui trouvé dans le projet Kaggle), car celui trouvé en français avait en problème d'encodage et beaucoup d'erreur de chargement. De plus le numéro dans le pokedex entre la version française et anglaise était différent (je ne m'en suis pas rendu compte tout de suite)"
   ]
  },
  {
   "cell_type": "code",
   "execution_count": 18,
   "id": "c2848c1b-8c35-4d6c-ba8f-eeafeb1b42f8",
   "metadata": {
    "tags": []
   },
   "outputs": [
    {
     "data": {
      "text/html": [
       "<div>\n",
       "<style scoped>\n",
       "    .dataframe tbody tr th:only-of-type {\n",
       "        vertical-align: middle;\n",
       "    }\n",
       "\n",
       "    .dataframe tbody tr th {\n",
       "        vertical-align: top;\n",
       "    }\n",
       "\n",
       "    .dataframe thead th {\n",
       "        text-align: right;\n",
       "    }\n",
       "</style>\n",
       "<table border=\"1\" class=\"dataframe\">\n",
       "  <thead>\n",
       "    <tr style=\"text-align: right;\">\n",
       "      <th></th>\n",
       "      <th>#</th>\n",
       "      <th>Name</th>\n",
       "      <th>Type 1</th>\n",
       "      <th>Type 2</th>\n",
       "      <th>HP</th>\n",
       "      <th>Attack</th>\n",
       "      <th>Defense</th>\n",
       "      <th>Sp. Atk</th>\n",
       "      <th>Sp. Def</th>\n",
       "      <th>Speed</th>\n",
       "      <th>Generation</th>\n",
       "      <th>Legendary</th>\n",
       "    </tr>\n",
       "  </thead>\n",
       "  <tbody>\n",
       "    <tr>\n",
       "      <th>0</th>\n",
       "      <td>1</td>\n",
       "      <td>Bulbasaur</td>\n",
       "      <td>Grass</td>\n",
       "      <td>Poison</td>\n",
       "      <td>45</td>\n",
       "      <td>49</td>\n",
       "      <td>49</td>\n",
       "      <td>65</td>\n",
       "      <td>65</td>\n",
       "      <td>45</td>\n",
       "      <td>1</td>\n",
       "      <td>False</td>\n",
       "    </tr>\n",
       "    <tr>\n",
       "      <th>1</th>\n",
       "      <td>2</td>\n",
       "      <td>Ivysaur</td>\n",
       "      <td>Grass</td>\n",
       "      <td>Poison</td>\n",
       "      <td>60</td>\n",
       "      <td>62</td>\n",
       "      <td>63</td>\n",
       "      <td>80</td>\n",
       "      <td>80</td>\n",
       "      <td>60</td>\n",
       "      <td>1</td>\n",
       "      <td>False</td>\n",
       "    </tr>\n",
       "    <tr>\n",
       "      <th>2</th>\n",
       "      <td>3</td>\n",
       "      <td>Venusaur</td>\n",
       "      <td>Grass</td>\n",
       "      <td>Poison</td>\n",
       "      <td>80</td>\n",
       "      <td>82</td>\n",
       "      <td>83</td>\n",
       "      <td>100</td>\n",
       "      <td>100</td>\n",
       "      <td>80</td>\n",
       "      <td>1</td>\n",
       "      <td>False</td>\n",
       "    </tr>\n",
       "    <tr>\n",
       "      <th>3</th>\n",
       "      <td>4</td>\n",
       "      <td>Mega Venusaur</td>\n",
       "      <td>Grass</td>\n",
       "      <td>Poison</td>\n",
       "      <td>80</td>\n",
       "      <td>100</td>\n",
       "      <td>123</td>\n",
       "      <td>122</td>\n",
       "      <td>120</td>\n",
       "      <td>80</td>\n",
       "      <td>1</td>\n",
       "      <td>False</td>\n",
       "    </tr>\n",
       "    <tr>\n",
       "      <th>4</th>\n",
       "      <td>5</td>\n",
       "      <td>Charmander</td>\n",
       "      <td>Fire</td>\n",
       "      <td>NaN</td>\n",
       "      <td>39</td>\n",
       "      <td>52</td>\n",
       "      <td>43</td>\n",
       "      <td>60</td>\n",
       "      <td>50</td>\n",
       "      <td>65</td>\n",
       "      <td>1</td>\n",
       "      <td>False</td>\n",
       "    </tr>\n",
       "  </tbody>\n",
       "</table>\n",
       "</div>"
      ],
      "text/plain": [
       "   #           Name Type 1  Type 2  HP  Attack  Defense  Sp. Atk  Sp. Def  \\\n",
       "0  1      Bulbasaur  Grass  Poison  45      49       49       65       65   \n",
       "1  2        Ivysaur  Grass  Poison  60      62       63       80       80   \n",
       "2  3       Venusaur  Grass  Poison  80      82       83      100      100   \n",
       "3  4  Mega Venusaur  Grass  Poison  80     100      123      122      120   \n",
       "4  5     Charmander   Fire     NaN  39      52       43       60       50   \n",
       "\n",
       "   Speed  Generation  Legendary  \n",
       "0     45           1      False  \n",
       "1     60           1      False  \n",
       "2     80           1      False  \n",
       "3     80           1      False  \n",
       "4     65           1      False  "
      ]
     },
     "execution_count": 18,
     "metadata": {},
     "output_type": "execute_result"
    }
   ],
   "source": [
    "pokedex = pd.read_csv('data/pokedex.csv')\n",
    "pokedex.head()"
   ]
  },
  {
   "cell_type": "code",
   "execution_count": 19,
   "id": "c38861c5-9ea4-4d2d-89e6-58b5001a0e12",
   "metadata": {
    "tags": []
   },
   "outputs": [
    {
     "name": "stdout",
     "output_type": "stream",
     "text": [
      "<class 'pandas.core.frame.DataFrame'>\n",
      "RangeIndex: 800 entries, 0 to 799\n",
      "Data columns (total 12 columns):\n",
      " #   Column      Non-Null Count  Dtype \n",
      "---  ------      --------------  ----- \n",
      " 0   #           800 non-null    int64 \n",
      " 1   Name        799 non-null    object\n",
      " 2   Type 1      800 non-null    object\n",
      " 3   Type 2      414 non-null    object\n",
      " 4   HP          800 non-null    int64 \n",
      " 5   Attack      800 non-null    int64 \n",
      " 6   Defense     800 non-null    int64 \n",
      " 7   Sp. Atk     800 non-null    int64 \n",
      " 8   Sp. Def     800 non-null    int64 \n",
      " 9   Speed       800 non-null    int64 \n",
      " 10  Generation  800 non-null    int64 \n",
      " 11  Legendary   800 non-null    bool  \n",
      "dtypes: bool(1), int64(8), object(3)\n",
      "memory usage: 69.7+ KB\n"
     ]
    }
   ],
   "source": [
    "pokedex.info()"
   ]
  },
  {
   "cell_type": "markdown",
   "id": "ea586273-cd07-4104-906e-91bfb6019c2c",
   "metadata": {},
   "source": [
    "### combat.csv"
   ]
  },
  {
   "cell_type": "code",
   "execution_count": 20,
   "id": "993f534e-4dd5-4267-9716-93e4af2766bc",
   "metadata": {
    "tags": []
   },
   "outputs": [
    {
     "data": {
      "text/html": [
       "<div>\n",
       "<style scoped>\n",
       "    .dataframe tbody tr th:only-of-type {\n",
       "        vertical-align: middle;\n",
       "    }\n",
       "\n",
       "    .dataframe tbody tr th {\n",
       "        vertical-align: top;\n",
       "    }\n",
       "\n",
       "    .dataframe thead th {\n",
       "        text-align: right;\n",
       "    }\n",
       "</style>\n",
       "<table border=\"1\" class=\"dataframe\">\n",
       "  <thead>\n",
       "    <tr style=\"text-align: right;\">\n",
       "      <th></th>\n",
       "      <th>First_pokemon</th>\n",
       "      <th>Second_pokemon</th>\n",
       "      <th>Winner</th>\n",
       "    </tr>\n",
       "  </thead>\n",
       "  <tbody>\n",
       "    <tr>\n",
       "      <th>0</th>\n",
       "      <td>266</td>\n",
       "      <td>298</td>\n",
       "      <td>298</td>\n",
       "    </tr>\n",
       "    <tr>\n",
       "      <th>1</th>\n",
       "      <td>702</td>\n",
       "      <td>701</td>\n",
       "      <td>701</td>\n",
       "    </tr>\n",
       "    <tr>\n",
       "      <th>2</th>\n",
       "      <td>191</td>\n",
       "      <td>668</td>\n",
       "      <td>668</td>\n",
       "    </tr>\n",
       "    <tr>\n",
       "      <th>3</th>\n",
       "      <td>237</td>\n",
       "      <td>683</td>\n",
       "      <td>683</td>\n",
       "    </tr>\n",
       "    <tr>\n",
       "      <th>4</th>\n",
       "      <td>151</td>\n",
       "      <td>231</td>\n",
       "      <td>151</td>\n",
       "    </tr>\n",
       "  </tbody>\n",
       "</table>\n",
       "</div>"
      ],
      "text/plain": [
       "   First_pokemon  Second_pokemon  Winner\n",
       "0            266             298     298\n",
       "1            702             701     701\n",
       "2            191             668     668\n",
       "3            237             683     683\n",
       "4            151             231     151"
      ]
     },
     "execution_count": 20,
     "metadata": {},
     "output_type": "execute_result"
    }
   ],
   "source": [
    "combats = pd.read_csv('data/combats.csv')\n",
    "\n",
    "combats.head(5)"
   ]
  },
  {
   "cell_type": "code",
   "execution_count": 21,
   "id": "57d179a3-bf76-47d8-811c-ac33605e01da",
   "metadata": {
    "tags": []
   },
   "outputs": [
    {
     "name": "stdout",
     "output_type": "stream",
     "text": [
      "<class 'pandas.core.frame.DataFrame'>\n",
      "RangeIndex: 50000 entries, 0 to 49999\n",
      "Data columns (total 3 columns):\n",
      " #   Column          Non-Null Count  Dtype\n",
      "---  ------          --------------  -----\n",
      " 0   First_pokemon   50000 non-null  int64\n",
      " 1   Second_pokemon  50000 non-null  int64\n",
      " 2   Winner          50000 non-null  int64\n",
      "dtypes: int64(3)\n",
      "memory usage: 1.1 MB\n"
     ]
    }
   ],
   "source": [
    "combats.info()"
   ]
  },
  {
   "cell_type": "markdown",
   "id": "dce2848d-5fb2-4b60-ad3c-5eef2caaa351",
   "metadata": {},
   "source": [
    "### tests.csv"
   ]
  },
  {
   "cell_type": "code",
   "execution_count": 22,
   "id": "af602cf4-b6b5-436f-8b50-2a9df7690c1b",
   "metadata": {
    "tags": []
   },
   "outputs": [
    {
     "data": {
      "text/html": [
       "<div>\n",
       "<style scoped>\n",
       "    .dataframe tbody tr th:only-of-type {\n",
       "        vertical-align: middle;\n",
       "    }\n",
       "\n",
       "    .dataframe tbody tr th {\n",
       "        vertical-align: top;\n",
       "    }\n",
       "\n",
       "    .dataframe thead th {\n",
       "        text-align: right;\n",
       "    }\n",
       "</style>\n",
       "<table border=\"1\" class=\"dataframe\">\n",
       "  <thead>\n",
       "    <tr style=\"text-align: right;\">\n",
       "      <th></th>\n",
       "      <th>First_pokemon</th>\n",
       "      <th>Second_pokemon</th>\n",
       "    </tr>\n",
       "  </thead>\n",
       "  <tbody>\n",
       "    <tr>\n",
       "      <th>0</th>\n",
       "      <td>129</td>\n",
       "      <td>117</td>\n",
       "    </tr>\n",
       "    <tr>\n",
       "      <th>1</th>\n",
       "      <td>660</td>\n",
       "      <td>211</td>\n",
       "    </tr>\n",
       "    <tr>\n",
       "      <th>2</th>\n",
       "      <td>706</td>\n",
       "      <td>115</td>\n",
       "    </tr>\n",
       "    <tr>\n",
       "      <th>3</th>\n",
       "      <td>195</td>\n",
       "      <td>618</td>\n",
       "    </tr>\n",
       "    <tr>\n",
       "      <th>4</th>\n",
       "      <td>27</td>\n",
       "      <td>656</td>\n",
       "    </tr>\n",
       "  </tbody>\n",
       "</table>\n",
       "</div>"
      ],
      "text/plain": [
       "   First_pokemon  Second_pokemon\n",
       "0            129             117\n",
       "1            660             211\n",
       "2            706             115\n",
       "3            195             618\n",
       "4             27             656"
      ]
     },
     "execution_count": 22,
     "metadata": {},
     "output_type": "execute_result"
    }
   ],
   "source": [
    "tests = pd.read_csv('data/tests.csv')\n",
    "\n",
    "tests.head(5)"
   ]
  },
  {
   "cell_type": "code",
   "execution_count": 23,
   "id": "7f466028-1b7a-4172-a3ef-dfc6e439304f",
   "metadata": {
    "tags": []
   },
   "outputs": [
    {
     "name": "stdout",
     "output_type": "stream",
     "text": [
      "<class 'pandas.core.frame.DataFrame'>\n",
      "RangeIndex: 10000 entries, 0 to 9999\n",
      "Data columns (total 2 columns):\n",
      " #   Column          Non-Null Count  Dtype\n",
      "---  ------          --------------  -----\n",
      " 0   First_pokemon   10000 non-null  int64\n",
      " 1   Second_pokemon  10000 non-null  int64\n",
      "dtypes: int64(2)\n",
      "memory usage: 156.4 KB\n"
     ]
    }
   ],
   "source": [
    "tests.info()"
   ]
  },
  {
   "cell_type": "markdown",
   "id": "f115e883-f7d9-4a11-a4ea-45205857b4ac",
   "metadata": {},
   "source": [
    "## Commentaires sur les données\n",
    "+ **pokedex.csv :**\n",
    "    + **Name :** Il manque le nom d'un pokemon, ce qui ne va pas être difficile à retrouver.\n",
    "    + **Type 2 :** Il 50% des types 2, ce qui est normal. Tous les pokemon n'ont pas forcément de type 2.\n",
    "+ **combat.csv :** R.A.S.\n",
    "+ **test.csv :** R.A.S.\n"
   ]
  },
  {
   "cell_type": "markdown",
   "id": "9401b92f-94d3-4833-bc21-e3367b42db82",
   "metadata": {},
   "source": [
    "## Nettoyage des données\n",
    "### Caractères spéciaux dans Name"
   ]
  },
  {
   "cell_type": "code",
   "execution_count": 24,
   "id": "5c990d5d-e5f2-43f4-a190-1fe1ad6657af",
   "metadata": {
    "tags": []
   },
   "outputs": [
    {
     "data": {
      "text/html": [
       "<div>\n",
       "<style scoped>\n",
       "    .dataframe tbody tr th:only-of-type {\n",
       "        vertical-align: middle;\n",
       "    }\n",
       "\n",
       "    .dataframe tbody tr th {\n",
       "        vertical-align: top;\n",
       "    }\n",
       "\n",
       "    .dataframe thead th {\n",
       "        text-align: right;\n",
       "    }\n",
       "</style>\n",
       "<table border=\"1\" class=\"dataframe\">\n",
       "  <thead>\n",
       "    <tr style=\"text-align: right;\">\n",
       "      <th></th>\n",
       "      <th>#</th>\n",
       "      <th>Name</th>\n",
       "      <th>Type 1</th>\n",
       "      <th>Type 2</th>\n",
       "      <th>HP</th>\n",
       "      <th>Attack</th>\n",
       "      <th>Defense</th>\n",
       "      <th>Sp. Atk</th>\n",
       "      <th>Sp. Def</th>\n",
       "      <th>Speed</th>\n",
       "      <th>Generation</th>\n",
       "      <th>Legendary</th>\n",
       "      <th>index_sp</th>\n",
       "    </tr>\n",
       "  </thead>\n",
       "  <tbody>\n",
       "    <tr>\n",
       "      <th>34</th>\n",
       "      <td>35</td>\n",
       "      <td>Nidoran♀</td>\n",
       "      <td>Poison</td>\n",
       "      <td>NaN</td>\n",
       "      <td>55</td>\n",
       "      <td>47</td>\n",
       "      <td>52</td>\n",
       "      <td>40</td>\n",
       "      <td>40</td>\n",
       "      <td>41</td>\n",
       "      <td>1</td>\n",
       "      <td>False</td>\n",
       "      <td>True</td>\n",
       "    </tr>\n",
       "    <tr>\n",
       "      <th>37</th>\n",
       "      <td>38</td>\n",
       "      <td>Nidoran♂</td>\n",
       "      <td>Poison</td>\n",
       "      <td>NaN</td>\n",
       "      <td>46</td>\n",
       "      <td>57</td>\n",
       "      <td>40</td>\n",
       "      <td>40</td>\n",
       "      <td>40</td>\n",
       "      <td>50</td>\n",
       "      <td>1</td>\n",
       "      <td>False</td>\n",
       "      <td>True</td>\n",
       "    </tr>\n",
       "    <tr>\n",
       "      <th>737</th>\n",
       "      <td>738</td>\n",
       "      <td>Flabébé</td>\n",
       "      <td>Fairy</td>\n",
       "      <td>NaN</td>\n",
       "      <td>44</td>\n",
       "      <td>38</td>\n",
       "      <td>39</td>\n",
       "      <td>61</td>\n",
       "      <td>79</td>\n",
       "      <td>42</td>\n",
       "      <td>6</td>\n",
       "      <td>False</td>\n",
       "      <td>True</td>\n",
       "    </tr>\n",
       "  </tbody>\n",
       "</table>\n",
       "</div>"
      ],
      "text/plain": [
       "       #      Name  Type 1 Type 2  HP  Attack  Defense  Sp. Atk  Sp. Def  \\\n",
       "34    35  Nidoran♀  Poison    NaN  55      47       52       40       40   \n",
       "37    38  Nidoran♂  Poison    NaN  46      57       40       40       40   \n",
       "737  738   Flabébé   Fairy    NaN  44      38       39       61       79   \n",
       "\n",
       "     Speed  Generation  Legendary index_sp  \n",
       "34      41           1      False     True  \n",
       "37      50           1      False     True  \n",
       "737     42           6      False     True  "
      ]
     },
     "execution_count": 24,
     "metadata": {},
     "output_type": "execute_result"
    }
   ],
   "source": [
    "pokedex['index_sp'] = pokedex['Name'].str.contains(r'[^\\x00-\\x7F]+')\n",
    "\n",
    "pokedex[pokedex['index_sp'] == True]"
   ]
  },
  {
   "cell_type": "markdown",
   "id": "78e1db81-de63-4cfe-937a-53ddd87f324c",
   "metadata": {},
   "source": [
    "Les caractères spéciaux dans les noms sont OK.  \n",
    "Je vais de toute façon utiliser le numéro du Pokémon (#) dans le modèle."
   ]
  },
  {
   "cell_type": "markdown",
   "id": "42f5ee22-73c6-4be8-9140-348c0852359a",
   "metadata": {},
   "source": [
    "### Caractères spéciaux dans Type 1 (OK)"
   ]
  },
  {
   "cell_type": "code",
   "execution_count": 25,
   "id": "f346e54f-697d-47f5-a925-456be4606972",
   "metadata": {
    "tags": []
   },
   "outputs": [
    {
     "data": {
      "text/html": [
       "<div>\n",
       "<style scoped>\n",
       "    .dataframe tbody tr th:only-of-type {\n",
       "        vertical-align: middle;\n",
       "    }\n",
       "\n",
       "    .dataframe tbody tr th {\n",
       "        vertical-align: top;\n",
       "    }\n",
       "\n",
       "    .dataframe thead th {\n",
       "        text-align: right;\n",
       "    }\n",
       "</style>\n",
       "<table border=\"1\" class=\"dataframe\">\n",
       "  <thead>\n",
       "    <tr style=\"text-align: right;\">\n",
       "      <th></th>\n",
       "      <th>#</th>\n",
       "      <th>Name</th>\n",
       "      <th>Type 1</th>\n",
       "      <th>Type 2</th>\n",
       "      <th>HP</th>\n",
       "      <th>Attack</th>\n",
       "      <th>Defense</th>\n",
       "      <th>Sp. Atk</th>\n",
       "      <th>Sp. Def</th>\n",
       "      <th>Speed</th>\n",
       "      <th>Generation</th>\n",
       "      <th>Legendary</th>\n",
       "      <th>index_sp</th>\n",
       "    </tr>\n",
       "  </thead>\n",
       "  <tbody>\n",
       "  </tbody>\n",
       "</table>\n",
       "</div>"
      ],
      "text/plain": [
       "Empty DataFrame\n",
       "Columns: [#, Name, Type 1, Type 2, HP, Attack, Defense, Sp. Atk, Sp. Def, Speed, Generation, Legendary, index_sp]\n",
       "Index: []"
      ]
     },
     "execution_count": 25,
     "metadata": {},
     "output_type": "execute_result"
    }
   ],
   "source": [
    "pokedex['index_sp'] = pokedex['Type 1'].str.contains(r'[^\\x00-\\x7F]+')\n",
    "\n",
    "pokedex[pokedex['index_sp'] == True]"
   ]
  },
  {
   "cell_type": "markdown",
   "id": "bf5e7356-20cb-4914-864b-07a806104792",
   "metadata": {},
   "source": [
    "### Caractères spéciaux dans Type 2 (OK)"
   ]
  },
  {
   "cell_type": "code",
   "execution_count": 26,
   "id": "48acca33-0398-4451-a0bf-fc577be6bad3",
   "metadata": {
    "tags": []
   },
   "outputs": [
    {
     "data": {
      "text/html": [
       "<div>\n",
       "<style scoped>\n",
       "    .dataframe tbody tr th:only-of-type {\n",
       "        vertical-align: middle;\n",
       "    }\n",
       "\n",
       "    .dataframe tbody tr th {\n",
       "        vertical-align: top;\n",
       "    }\n",
       "\n",
       "    .dataframe thead th {\n",
       "        text-align: right;\n",
       "    }\n",
       "</style>\n",
       "<table border=\"1\" class=\"dataframe\">\n",
       "  <thead>\n",
       "    <tr style=\"text-align: right;\">\n",
       "      <th></th>\n",
       "      <th>#</th>\n",
       "      <th>Name</th>\n",
       "      <th>Type 1</th>\n",
       "      <th>Type 2</th>\n",
       "      <th>HP</th>\n",
       "      <th>Attack</th>\n",
       "      <th>Defense</th>\n",
       "      <th>Sp. Atk</th>\n",
       "      <th>Sp. Def</th>\n",
       "      <th>Speed</th>\n",
       "      <th>Generation</th>\n",
       "      <th>Legendary</th>\n",
       "      <th>index_sp</th>\n",
       "    </tr>\n",
       "  </thead>\n",
       "  <tbody>\n",
       "  </tbody>\n",
       "</table>\n",
       "</div>"
      ],
      "text/plain": [
       "Empty DataFrame\n",
       "Columns: [#, Name, Type 1, Type 2, HP, Attack, Defense, Sp. Atk, Sp. Def, Speed, Generation, Legendary, index_sp]\n",
       "Index: []"
      ]
     },
     "execution_count": 26,
     "metadata": {},
     "output_type": "execute_result"
    }
   ],
   "source": [
    "pokedex['index_sp'] = pokedex['Type 2'].str.contains(r'[^\\x00-\\x7F]+')\n",
    "\n",
    "pokedex[pokedex['index_sp'] == True]"
   ]
  },
  {
   "cell_type": "code",
   "execution_count": 27,
   "id": "b926ecfb-96e7-4667-aad2-afd6806d63bf",
   "metadata": {
    "tags": []
   },
   "outputs": [],
   "source": [
    "# Efface la colonne 'index_sp', qui ne sert plus a rien\n",
    "pokedex = pokedex.drop(columns='index_sp')"
   ]
  },
  {
   "cell_type": "markdown",
   "id": "5fe3d0ad-d267-4b6a-b730-0f851acefe5b",
   "metadata": {},
   "source": [
    "### Le Pokemon manquant"
   ]
  },
  {
   "cell_type": "code",
   "execution_count": 28,
   "id": "2d69eacb-3bc3-4e62-8564-c5f4b7b96e36",
   "metadata": {
    "tags": []
   },
   "outputs": [
    {
     "data": {
      "text/html": [
       "<div>\n",
       "<style scoped>\n",
       "    .dataframe tbody tr th:only-of-type {\n",
       "        vertical-align: middle;\n",
       "    }\n",
       "\n",
       "    .dataframe tbody tr th {\n",
       "        vertical-align: top;\n",
       "    }\n",
       "\n",
       "    .dataframe thead th {\n",
       "        text-align: right;\n",
       "    }\n",
       "</style>\n",
       "<table border=\"1\" class=\"dataframe\">\n",
       "  <thead>\n",
       "    <tr style=\"text-align: right;\">\n",
       "      <th></th>\n",
       "      <th>#</th>\n",
       "      <th>Name</th>\n",
       "      <th>Type 1</th>\n",
       "      <th>Type 2</th>\n",
       "      <th>HP</th>\n",
       "      <th>Attack</th>\n",
       "      <th>Defense</th>\n",
       "      <th>Sp. Atk</th>\n",
       "      <th>Sp. Def</th>\n",
       "      <th>Speed</th>\n",
       "      <th>Generation</th>\n",
       "      <th>Legendary</th>\n",
       "    </tr>\n",
       "  </thead>\n",
       "  <tbody>\n",
       "    <tr>\n",
       "      <th>62</th>\n",
       "      <td>63</td>\n",
       "      <td>NaN</td>\n",
       "      <td>Fighting</td>\n",
       "      <td>NaN</td>\n",
       "      <td>65</td>\n",
       "      <td>105</td>\n",
       "      <td>60</td>\n",
       "      <td>60</td>\n",
       "      <td>70</td>\n",
       "      <td>95</td>\n",
       "      <td>1</td>\n",
       "      <td>False</td>\n",
       "    </tr>\n",
       "  </tbody>\n",
       "</table>\n",
       "</div>"
      ],
      "text/plain": [
       "     # Name    Type 1 Type 2  HP  Attack  Defense  Sp. Atk  Sp. Def  Speed  \\\n",
       "62  63  NaN  Fighting    NaN  65     105       60       60       70     95   \n",
       "\n",
       "    Generation  Legendary  \n",
       "62           1      False  "
      ]
     },
     "execution_count": 28,
     "metadata": {},
     "output_type": "execute_result"
    }
   ],
   "source": [
    "pokedex[pokedex['Name'].isna()]"
   ]
  },
  {
   "cell_type": "code",
   "execution_count": 29,
   "id": "9ae389bc-b5f3-4607-9a21-890d9eb5c44d",
   "metadata": {
    "tags": []
   },
   "outputs": [
    {
     "data": {
      "text/html": [
       "<div>\n",
       "<style scoped>\n",
       "    .dataframe tbody tr th:only-of-type {\n",
       "        vertical-align: middle;\n",
       "    }\n",
       "\n",
       "    .dataframe tbody tr th {\n",
       "        vertical-align: top;\n",
       "    }\n",
       "\n",
       "    .dataframe thead th {\n",
       "        text-align: right;\n",
       "    }\n",
       "</style>\n",
       "<table border=\"1\" class=\"dataframe\">\n",
       "  <thead>\n",
       "    <tr style=\"text-align: right;\">\n",
       "      <th></th>\n",
       "      <th>#</th>\n",
       "      <th>Name</th>\n",
       "      <th>Type 1</th>\n",
       "      <th>Type 2</th>\n",
       "      <th>HP</th>\n",
       "      <th>Attack</th>\n",
       "      <th>Defense</th>\n",
       "      <th>Sp. Atk</th>\n",
       "      <th>Sp. Def</th>\n",
       "      <th>Speed</th>\n",
       "      <th>Generation</th>\n",
       "      <th>Legendary</th>\n",
       "    </tr>\n",
       "  </thead>\n",
       "  <tbody>\n",
       "    <tr>\n",
       "      <th>60</th>\n",
       "      <td>61</td>\n",
       "      <td>Golduck</td>\n",
       "      <td>Water</td>\n",
       "      <td>NaN</td>\n",
       "      <td>80</td>\n",
       "      <td>82</td>\n",
       "      <td>78</td>\n",
       "      <td>95</td>\n",
       "      <td>80</td>\n",
       "      <td>85</td>\n",
       "      <td>1</td>\n",
       "      <td>False</td>\n",
       "    </tr>\n",
       "    <tr>\n",
       "      <th>61</th>\n",
       "      <td>62</td>\n",
       "      <td>Mankey</td>\n",
       "      <td>Fighting</td>\n",
       "      <td>NaN</td>\n",
       "      <td>40</td>\n",
       "      <td>80</td>\n",
       "      <td>35</td>\n",
       "      <td>35</td>\n",
       "      <td>45</td>\n",
       "      <td>70</td>\n",
       "      <td>1</td>\n",
       "      <td>False</td>\n",
       "    </tr>\n",
       "    <tr>\n",
       "      <th>62</th>\n",
       "      <td>63</td>\n",
       "      <td>NaN</td>\n",
       "      <td>Fighting</td>\n",
       "      <td>NaN</td>\n",
       "      <td>65</td>\n",
       "      <td>105</td>\n",
       "      <td>60</td>\n",
       "      <td>60</td>\n",
       "      <td>70</td>\n",
       "      <td>95</td>\n",
       "      <td>1</td>\n",
       "      <td>False</td>\n",
       "    </tr>\n",
       "    <tr>\n",
       "      <th>63</th>\n",
       "      <td>64</td>\n",
       "      <td>Growlithe</td>\n",
       "      <td>Fire</td>\n",
       "      <td>NaN</td>\n",
       "      <td>55</td>\n",
       "      <td>70</td>\n",
       "      <td>45</td>\n",
       "      <td>70</td>\n",
       "      <td>50</td>\n",
       "      <td>60</td>\n",
       "      <td>1</td>\n",
       "      <td>False</td>\n",
       "    </tr>\n",
       "    <tr>\n",
       "      <th>64</th>\n",
       "      <td>65</td>\n",
       "      <td>Arcanine</td>\n",
       "      <td>Fire</td>\n",
       "      <td>NaN</td>\n",
       "      <td>90</td>\n",
       "      <td>110</td>\n",
       "      <td>80</td>\n",
       "      <td>100</td>\n",
       "      <td>80</td>\n",
       "      <td>95</td>\n",
       "      <td>1</td>\n",
       "      <td>False</td>\n",
       "    </tr>\n",
       "    <tr>\n",
       "      <th>65</th>\n",
       "      <td>66</td>\n",
       "      <td>Poliwag</td>\n",
       "      <td>Water</td>\n",
       "      <td>NaN</td>\n",
       "      <td>40</td>\n",
       "      <td>50</td>\n",
       "      <td>40</td>\n",
       "      <td>40</td>\n",
       "      <td>40</td>\n",
       "      <td>90</td>\n",
       "      <td>1</td>\n",
       "      <td>False</td>\n",
       "    </tr>\n",
       "  </tbody>\n",
       "</table>\n",
       "</div>"
      ],
      "text/plain": [
       "     #       Name    Type 1 Type 2  HP  Attack  Defense  Sp. Atk  Sp. Def  \\\n",
       "60  61    Golduck     Water    NaN  80      82       78       95       80   \n",
       "61  62     Mankey  Fighting    NaN  40      80       35       35       45   \n",
       "62  63        NaN  Fighting    NaN  65     105       60       60       70   \n",
       "63  64  Growlithe      Fire    NaN  55      70       45       70       50   \n",
       "64  65   Arcanine      Fire    NaN  90     110       80      100       80   \n",
       "65  66    Poliwag     Water    NaN  40      50       40       40       40   \n",
       "\n",
       "    Speed  Generation  Legendary  \n",
       "60     85           1      False  \n",
       "61     70           1      False  \n",
       "62     95           1      False  \n",
       "63     60           1      False  \n",
       "64     95           1      False  \n",
       "65     90           1      False  "
      ]
     },
     "execution_count": 29,
     "metadata": {},
     "output_type": "execute_result"
    }
   ],
   "source": [
    "pokedex.loc[60:65]"
   ]
  },
  {
   "cell_type": "markdown",
   "id": "663c46e6-53d4-4f92-af7a-5e45fc86e056",
   "metadata": {},
   "source": [
    "**Source:** https://www.pokepedia.fr/Colossinge  \n",
    "  \n",
    "Mankey (EN) | Férosinge (FR) < Primeape (EN) | Colossinge (FR) < Growlith (EN) | Caninos (FR)\n",
    "\n",
    "Le Pokemon recherché est bien **Primeape**. On peut vérifié par rapport à ces caractéristiques : https://www.pokebip.com/pokedex/ecarlate-violet/pokemon/colossinge"
   ]
  },
  {
   "cell_type": "code",
   "execution_count": 30,
   "id": "4452630e-10e0-45c8-b0f3-b706c3e20292",
   "metadata": {
    "tags": []
   },
   "outputs": [
    {
     "data": {
      "text/html": [
       "<div>\n",
       "<style scoped>\n",
       "    .dataframe tbody tr th:only-of-type {\n",
       "        vertical-align: middle;\n",
       "    }\n",
       "\n",
       "    .dataframe tbody tr th {\n",
       "        vertical-align: top;\n",
       "    }\n",
       "\n",
       "    .dataframe thead th {\n",
       "        text-align: right;\n",
       "    }\n",
       "</style>\n",
       "<table border=\"1\" class=\"dataframe\">\n",
       "  <thead>\n",
       "    <tr style=\"text-align: right;\">\n",
       "      <th></th>\n",
       "      <th>#</th>\n",
       "      <th>Name</th>\n",
       "      <th>Type 1</th>\n",
       "      <th>Type 2</th>\n",
       "      <th>HP</th>\n",
       "      <th>Attack</th>\n",
       "      <th>Defense</th>\n",
       "      <th>Sp. Atk</th>\n",
       "      <th>Sp. Def</th>\n",
       "      <th>Speed</th>\n",
       "      <th>Generation</th>\n",
       "      <th>Legendary</th>\n",
       "    </tr>\n",
       "  </thead>\n",
       "  <tbody>\n",
       "    <tr>\n",
       "      <th>61</th>\n",
       "      <td>62</td>\n",
       "      <td>Mankey</td>\n",
       "      <td>Fighting</td>\n",
       "      <td>NaN</td>\n",
       "      <td>40</td>\n",
       "      <td>80</td>\n",
       "      <td>35</td>\n",
       "      <td>35</td>\n",
       "      <td>45</td>\n",
       "      <td>70</td>\n",
       "      <td>1</td>\n",
       "      <td>False</td>\n",
       "    </tr>\n",
       "    <tr>\n",
       "      <th>62</th>\n",
       "      <td>63</td>\n",
       "      <td>Primeape</td>\n",
       "      <td>Fighting</td>\n",
       "      <td>NaN</td>\n",
       "      <td>65</td>\n",
       "      <td>105</td>\n",
       "      <td>60</td>\n",
       "      <td>60</td>\n",
       "      <td>70</td>\n",
       "      <td>95</td>\n",
       "      <td>1</td>\n",
       "      <td>False</td>\n",
       "    </tr>\n",
       "    <tr>\n",
       "      <th>63</th>\n",
       "      <td>64</td>\n",
       "      <td>Growlithe</td>\n",
       "      <td>Fire</td>\n",
       "      <td>NaN</td>\n",
       "      <td>55</td>\n",
       "      <td>70</td>\n",
       "      <td>45</td>\n",
       "      <td>70</td>\n",
       "      <td>50</td>\n",
       "      <td>60</td>\n",
       "      <td>1</td>\n",
       "      <td>False</td>\n",
       "    </tr>\n",
       "  </tbody>\n",
       "</table>\n",
       "</div>"
      ],
      "text/plain": [
       "     #       Name    Type 1 Type 2  HP  Attack  Defense  Sp. Atk  Sp. Def  \\\n",
       "61  62     Mankey  Fighting    NaN  40      80       35       35       45   \n",
       "62  63   Primeape  Fighting    NaN  65     105       60       60       70   \n",
       "63  64  Growlithe      Fire    NaN  55      70       45       70       50   \n",
       "\n",
       "    Speed  Generation  Legendary  \n",
       "61     70           1      False  \n",
       "62     95           1      False  \n",
       "63     60           1      False  "
      ]
     },
     "execution_count": 30,
     "metadata": {},
     "output_type": "execute_result"
    }
   ],
   "source": [
    "pokedex.loc[62, 'Name'] = 'Primeape'\n",
    "\n",
    "pokedex.loc[61:63]"
   ]
  },
  {
   "cell_type": "markdown",
   "id": "39ca7b84-d627-4e35-8dc3-aa4d67dbabdf",
   "metadata": {},
   "source": [
    "#### REMARQUES : Indexation des Pokemon\n",
    "  \n",
    "Cependant le numéro du pokémon (63) diffère de la documentation sur le net (57). \n",
    "\n",
    "En effet, dans la génération 5 ou 6, Pokemon on introduit les formes **\"Mega\"** et les formes **\"X\"** et **\"Y\"**. Les Pokemon sous cette forme portent le même numéro de pokédex que le Pokemon de base.\n",
    "\n",
    "Exemple : Dracaufeu (FR), Charizard (EN) existe en 4 versions différentes (Dracaufeu, Mega-Dracaufeu X, Mega-Dracaufeu Y et Dracaufeu-Gigamax), mais toutes portent le numéro 6 (https://www.pokemon.com/fr/pokedex/dracaufeu).\n",
    "\n",
    "Dans le dataset trouvé sur Kaggle, le choix à été fait d'indexer ces formes différement :"
   ]
  },
  {
   "cell_type": "code",
   "execution_count": 31,
   "id": "060d6715-220c-40f1-951c-84d8a4e00278",
   "metadata": {
    "tags": []
   },
   "outputs": [
    {
     "data": {
      "text/html": [
       "<div>\n",
       "<style scoped>\n",
       "    .dataframe tbody tr th:only-of-type {\n",
       "        vertical-align: middle;\n",
       "    }\n",
       "\n",
       "    .dataframe tbody tr th {\n",
       "        vertical-align: top;\n",
       "    }\n",
       "\n",
       "    .dataframe thead th {\n",
       "        text-align: right;\n",
       "    }\n",
       "</style>\n",
       "<table border=\"1\" class=\"dataframe\">\n",
       "  <thead>\n",
       "    <tr style=\"text-align: right;\">\n",
       "      <th></th>\n",
       "      <th>#</th>\n",
       "      <th>Name</th>\n",
       "      <th>Type 1</th>\n",
       "      <th>Type 2</th>\n",
       "      <th>HP</th>\n",
       "      <th>Attack</th>\n",
       "      <th>Defense</th>\n",
       "      <th>Sp. Atk</th>\n",
       "      <th>Sp. Def</th>\n",
       "      <th>Speed</th>\n",
       "      <th>Generation</th>\n",
       "      <th>Legendary</th>\n",
       "    </tr>\n",
       "  </thead>\n",
       "  <tbody>\n",
       "    <tr>\n",
       "      <th>6</th>\n",
       "      <td>7</td>\n",
       "      <td>Charizard</td>\n",
       "      <td>Fire</td>\n",
       "      <td>Flying</td>\n",
       "      <td>78</td>\n",
       "      <td>84</td>\n",
       "      <td>78</td>\n",
       "      <td>109</td>\n",
       "      <td>85</td>\n",
       "      <td>100</td>\n",
       "      <td>1</td>\n",
       "      <td>False</td>\n",
       "    </tr>\n",
       "    <tr>\n",
       "      <th>7</th>\n",
       "      <td>8</td>\n",
       "      <td>Mega Charizard X</td>\n",
       "      <td>Fire</td>\n",
       "      <td>Dragon</td>\n",
       "      <td>78</td>\n",
       "      <td>130</td>\n",
       "      <td>111</td>\n",
       "      <td>130</td>\n",
       "      <td>85</td>\n",
       "      <td>100</td>\n",
       "      <td>1</td>\n",
       "      <td>False</td>\n",
       "    </tr>\n",
       "    <tr>\n",
       "      <th>8</th>\n",
       "      <td>9</td>\n",
       "      <td>Mega Charizard Y</td>\n",
       "      <td>Fire</td>\n",
       "      <td>Flying</td>\n",
       "      <td>78</td>\n",
       "      <td>104</td>\n",
       "      <td>78</td>\n",
       "      <td>159</td>\n",
       "      <td>115</td>\n",
       "      <td>100</td>\n",
       "      <td>1</td>\n",
       "      <td>False</td>\n",
       "    </tr>\n",
       "  </tbody>\n",
       "</table>\n",
       "</div>"
      ],
      "text/plain": [
       "   #              Name Type 1  Type 2  HP  Attack  Defense  Sp. Atk  Sp. Def  \\\n",
       "6  7         Charizard   Fire  Flying  78      84       78      109       85   \n",
       "7  8  Mega Charizard X   Fire  Dragon  78     130      111      130       85   \n",
       "8  9  Mega Charizard Y   Fire  Flying  78     104       78      159      115   \n",
       "\n",
       "   Speed  Generation  Legendary  \n",
       "6    100           1      False  \n",
       "7    100           1      False  \n",
       "8    100           1      False  "
      ]
     },
     "execution_count": 31,
     "metadata": {},
     "output_type": "execute_result"
    }
   ],
   "source": [
    "pokedex.head(9).tail(3)"
   ]
  },
  {
   "cell_type": "markdown",
   "id": "422c15f5-4462-4307-8f79-ab883f119011",
   "metadata": {},
   "source": [
    "Dracaufeu est même indexé au numéo 7 du pokedex en raison du fait que Florizzare (FR), Vunasaur (EN) à une Méga frome qui à pris la place du numéro 4, décalant ainsi le reste de la liste.\n",
    "\n",
    "Sur base de cela on peut déterminer le nombre de pokemon qui ont 'Mega' dans leur nom :"
   ]
  },
  {
   "cell_type": "code",
   "execution_count": 32,
   "id": "d4a0ca30-1b4f-4ecf-bc2e-4118499c3802",
   "metadata": {
    "tags": []
   },
   "outputs": [
    {
     "data": {
      "text/plain": [
       "49"
      ]
     },
     "execution_count": 32,
     "metadata": {},
     "output_type": "execute_result"
    }
   ],
   "source": [
    "pokemon_mega = pokedex[pokedex['Name'].str.contains('Mega', na=False)]['Name'].count()\n",
    "\n",
    "pokemon_mega"
   ]
  },
  {
   "cell_type": "markdown",
   "id": "da0f20e5-65d5-488b-aedc-06cc8b00ca15",
   "metadata": {},
   "source": [
    "De même, certain Pokemon ont plusieurs formes et ne porte pas forcément \"Mega\" dans leur nom :"
   ]
  },
  {
   "cell_type": "code",
   "execution_count": 33,
   "id": "9bb2a73e-c775-4eac-b87c-c6afd05975dd",
   "metadata": {
    "tags": []
   },
   "outputs": [
    {
     "data": {
      "text/html": [
       "<div>\n",
       "<style scoped>\n",
       "    .dataframe tbody tr th:only-of-type {\n",
       "        vertical-align: middle;\n",
       "    }\n",
       "\n",
       "    .dataframe tbody tr th {\n",
       "        vertical-align: top;\n",
       "    }\n",
       "\n",
       "    .dataframe thead th {\n",
       "        text-align: right;\n",
       "    }\n",
       "</style>\n",
       "<table border=\"1\" class=\"dataframe\">\n",
       "  <thead>\n",
       "    <tr style=\"text-align: right;\">\n",
       "      <th></th>\n",
       "      <th>#</th>\n",
       "      <th>Name</th>\n",
       "      <th>Type 1</th>\n",
       "      <th>Type 2</th>\n",
       "      <th>HP</th>\n",
       "      <th>Attack</th>\n",
       "      <th>Defense</th>\n",
       "      <th>Sp. Atk</th>\n",
       "      <th>Sp. Def</th>\n",
       "      <th>Speed</th>\n",
       "      <th>Generation</th>\n",
       "      <th>Legendary</th>\n",
       "    </tr>\n",
       "  </thead>\n",
       "  <tbody>\n",
       "    <tr>\n",
       "      <th>780</th>\n",
       "      <td>781</td>\n",
       "      <td>Pumpkaboo Average Size</td>\n",
       "      <td>Ghost</td>\n",
       "      <td>Grass</td>\n",
       "      <td>49</td>\n",
       "      <td>66</td>\n",
       "      <td>70</td>\n",
       "      <td>44</td>\n",
       "      <td>55</td>\n",
       "      <td>51</td>\n",
       "      <td>6</td>\n",
       "      <td>False</td>\n",
       "    </tr>\n",
       "    <tr>\n",
       "      <th>781</th>\n",
       "      <td>782</td>\n",
       "      <td>Pumpkaboo Small Size</td>\n",
       "      <td>Ghost</td>\n",
       "      <td>Grass</td>\n",
       "      <td>44</td>\n",
       "      <td>66</td>\n",
       "      <td>70</td>\n",
       "      <td>44</td>\n",
       "      <td>55</td>\n",
       "      <td>56</td>\n",
       "      <td>6</td>\n",
       "      <td>False</td>\n",
       "    </tr>\n",
       "    <tr>\n",
       "      <th>782</th>\n",
       "      <td>783</td>\n",
       "      <td>Pumpkaboo Large Size</td>\n",
       "      <td>Ghost</td>\n",
       "      <td>Grass</td>\n",
       "      <td>54</td>\n",
       "      <td>66</td>\n",
       "      <td>70</td>\n",
       "      <td>44</td>\n",
       "      <td>55</td>\n",
       "      <td>46</td>\n",
       "      <td>6</td>\n",
       "      <td>False</td>\n",
       "    </tr>\n",
       "    <tr>\n",
       "      <th>783</th>\n",
       "      <td>784</td>\n",
       "      <td>Pumpkaboo Super Size</td>\n",
       "      <td>Ghost</td>\n",
       "      <td>Grass</td>\n",
       "      <td>59</td>\n",
       "      <td>66</td>\n",
       "      <td>70</td>\n",
       "      <td>44</td>\n",
       "      <td>55</td>\n",
       "      <td>41</td>\n",
       "      <td>6</td>\n",
       "      <td>False</td>\n",
       "    </tr>\n",
       "  </tbody>\n",
       "</table>\n",
       "</div>"
      ],
      "text/plain": [
       "       #                    Name Type 1 Type 2  HP  Attack  Defense  Sp. Atk  \\\n",
       "780  781  Pumpkaboo Average Size  Ghost  Grass  49      66       70       44   \n",
       "781  782    Pumpkaboo Small Size  Ghost  Grass  44      66       70       44   \n",
       "782  783    Pumpkaboo Large Size  Ghost  Grass  54      66       70       44   \n",
       "783  784    Pumpkaboo Super Size  Ghost  Grass  59      66       70       44   \n",
       "\n",
       "     Sp. Def  Speed  Generation  Legendary  \n",
       "780       55     51           6      False  \n",
       "781       55     56           6      False  \n",
       "782       55     46           6      False  \n",
       "783       55     41           6      False  "
      ]
     },
     "execution_count": 33,
     "metadata": {},
     "output_type": "execute_result"
    }
   ],
   "source": [
    "pokedex[pokedex['Name'].str.contains('Pump', na=False)]"
   ]
  },
  {
   "cell_type": "markdown",
   "id": "f1f594d3-6d23-48af-9974-0b22d375e74a",
   "metadata": {},
   "source": [
    "**La différences des 88 Pokemon suppélementaires dans le dataset provint de là. (Je pourrais m'amuser à compter, et il le faudrait, mais j'ai la flem...)**"
   ]
  },
  {
   "cell_type": "markdown",
   "id": "618e0412-3b7b-4905-86bf-2e6f03447a7b",
   "metadata": {},
   "source": [
    "### Manquants dans Type 2\n",
    "Comme indiqué précédement, un Pokémon peut ne pas avoir de Type 2. Dans ce fait, je vais considérer ce manque de type comme une information pertinente et ajouter un type : no_type_2, pour ne pas laisser de vide dans le dataset."
   ]
  },
  {
   "cell_type": "code",
   "execution_count": 34,
   "id": "15f9a2eb-5f16-4a69-b247-c619a630cce8",
   "metadata": {
    "tags": []
   },
   "outputs": [
    {
     "name": "stdout",
     "output_type": "stream",
     "text": [
      "Nombre de Type 2 manquant : 386\n",
      "Nombre de no_type_2 après remplacement : 386\n"
     ]
    }
   ],
   "source": [
    "nb_miss_t2 = pokedex['Type 2'].isna().sum()\n",
    "\n",
    "pokedex.loc[pokedex['Type 2'].isna(), 'Type 2'] = 'no_type_2'\n",
    "nb_not2 = pokedex[pokedex['Type 2'] == 'no_type_2']['Type 2'].count()\n",
    "        \n",
    "print(f\"Nombre de Type 2 manquant : {nb_miss_t2}\")\n",
    "print(f\"Nombre de no_type_2 après remplacement : {nb_not2}\")"
   ]
  },
  {
   "cell_type": "markdown",
   "id": "daf64d5b-fae0-4be8-90c8-7e7abbfea495",
   "metadata": {},
   "source": [
    "# Analyse des données (EDA)"
   ]
  },
  {
   "cell_type": "markdown",
   "id": "7c4bd6b8-ad65-42b4-8c3d-982dcefa8619",
   "metadata": {
    "tags": []
   },
   "source": [
    "## Pokedex\n",
    "### Types de données"
   ]
  },
  {
   "cell_type": "code",
   "execution_count": 35,
   "id": "e07f4dd2-8759-4f96-abd6-53aae9e214c8",
   "metadata": {
    "tags": []
   },
   "outputs": [
    {
     "name": "stdout",
     "output_type": "stream",
     "text": [
      "<class 'pandas.core.frame.DataFrame'>\n",
      "RangeIndex: 800 entries, 0 to 799\n",
      "Data columns (total 12 columns):\n",
      " #   Column      Non-Null Count  Dtype \n",
      "---  ------      --------------  ----- \n",
      " 0   #           800 non-null    int64 \n",
      " 1   Name        800 non-null    object\n",
      " 2   Type 1      800 non-null    object\n",
      " 3   Type 2      800 non-null    object\n",
      " 4   HP          800 non-null    int64 \n",
      " 5   Attack      800 non-null    int64 \n",
      " 6   Defense     800 non-null    int64 \n",
      " 7   Sp. Atk     800 non-null    int64 \n",
      " 8   Sp. Def     800 non-null    int64 \n",
      " 9   Speed       800 non-null    int64 \n",
      " 10  Generation  800 non-null    int64 \n",
      " 11  Legendary   800 non-null    bool  \n",
      "dtypes: bool(1), int64(8), object(3)\n",
      "memory usage: 69.7+ KB\n"
     ]
    }
   ],
   "source": [
    "pokedex.info()"
   ]
  },
  {
   "cell_type": "markdown",
   "id": "9e9f5110-e7c8-453b-89f7-a3f262bb38d4",
   "metadata": {},
   "source": [
    "### Features Catégoriel\n",
    "+ Type 1 (nominale)\n",
    "+ Type 2 (nominale)\n",
    "+ Generation (ordinale)\n",
    "+ Legendary (nominale)  \n",
    "  \n",
    "*(sachant que Name ne sera pas utilisé dans le model)*"
   ]
  },
  {
   "cell_type": "markdown",
   "id": "046b7197-0f0f-433d-96c0-38de10b41e9b",
   "metadata": {},
   "source": [
    "### Features Numérique (Variables Continues)\n",
    "\n",
    "+ HP\n",
    "+ Attack\n",
    "+ Defense\n",
    "+ Sp. Atk\n",
    "+ Sp. Def\n",
    "+ Speed"
   ]
  },
  {
   "cell_type": "markdown",
   "id": "c41b95d6-ce94-42e9-88e2-4f5a7060a693",
   "metadata": {},
   "source": [
    "### Corrélation entre les données continues"
   ]
  },
  {
   "cell_type": "code",
   "execution_count": 36,
   "id": "45416e1f-24d8-4ab9-bcdd-40684e534d82",
   "metadata": {
    "tags": []
   },
   "outputs": [
    {
     "data": {
      "image/png": "[encoded data removed]",
      "text/plain": [
       "<Figure size 640x480 with 2 Axes>"
      ]
     },
     "metadata": {},
     "output_type": "display_data"
    }
   ],
   "source": [
    "# On retir l'index et le name comme mentionné précédement\n",
    "corr = pokedex.drop(columns=['#', 'Name', 'Type 1', 'Type 2']).corr()\n",
    "\n",
    "sns.heatmap(corr, \n",
    "        xticklabels=corr.columns, \n",
    "        yticklabels=corr.columns, annot=True) \n",
    "plt.show() "
   ]
  },
  {
   "cell_type": "markdown",
   "id": "eab6afbe-b7f9-47ad-908a-65ebd3f04bce",
   "metadata": {},
   "source": [
    "On peut être certain que la génération n'a aucune corrélation avec le reste des données (comme je m'en doutais). Cette features n'introduit pas de biais.\n",
    "\n",
    "De façon générale on voit que les features ont toutes une faibles corrélation entre elle, et c'est normale. On peut se demander pourquoi sp. Atk à une corrélation de 0.51 avec sp. Def. ce qui n'est pas significatif, mais tout de même présent. Tout simplement, quand les concepteurs du jeu on créer leurs Pokémon, ils ont du faire face à un besoin d'équilibrage. Ce qui fait que les pokemon ont tous une certaine puissance moyenne. Si un Pokémon est très fort en attaque, alors il sera plus faible en défense ou en vitesse ou aura moins de HP.  \n",
    "\n",
    "Le feature Légendaire à également une certaine corrélation (faible) avec les autres features, mais non négligeable par rapport aux autre corrélation. C'est aussi normale, car un pokemon légendaire à certaines de ces features qui sont plus élevées que les pokemon non légendaires (principalement sp. Atk). Le fait qu'un pokemon est légendaire est déjà représenté par ses features. Donc garder la feature Légendaire, c'est introduire un biais dans le model. Je vais donc l'exclure."
   ]
  },
  {
   "cell_type": "markdown",
   "id": "370f95e6-6558-4e4e-b224-d8101c0a15ee",
   "metadata": {},
   "source": [
    "## Combats"
   ]
  },
  {
   "cell_type": "code",
   "execution_count": 37,
   "id": "2cfc475c-88dc-4729-8026-4168ce6aa96d",
   "metadata": {
    "tags": []
   },
   "outputs": [
    {
     "data": {
      "text/plain": [
       "(50000, 3)"
      ]
     },
     "execution_count": 37,
     "metadata": {},
     "output_type": "execute_result"
    }
   ],
   "source": [
    "combats.shape"
   ]
  },
  {
   "cell_type": "markdown",
   "id": "d9808cb2-6b0f-4ea7-a1a7-aa16f11949b5",
   "metadata": {},
   "source": [
    "### Représentation de chaque Pokemon en combat"
   ]
  },
  {
   "cell_type": "code",
   "execution_count": 38,
   "id": "b9b4beee-591a-45d3-951a-b0a9ae59158b",
   "metadata": {
    "tags": []
   },
   "outputs": [],
   "source": [
    "nb_first_position = combats['First_pokemon'].value_counts()\n",
    "nb_second_position = combats['Second_pokemon'].value_counts()"
   ]
  },
  {
   "cell_type": "markdown",
   "id": "5946a92d-db47-4ce1-926a-9d08fc51ec8c",
   "metadata": {},
   "source": [
    "#### Heatmap des pokemon par position"
   ]
  },
  {
   "cell_type": "code",
   "execution_count": 39,
   "id": "f31f49df-9133-46a4-a99e-d8395fbdf89b",
   "metadata": {
    "tags": []
   },
   "outputs": [
    {
     "data": {
      "image/png": "[encoded data removed]",
      "text/plain": [
       "<Figure size 1500x600 with 2 Axes>"
      ]
     },
     "metadata": {},
     "output_type": "display_data"
    }
   ],
   "source": [
    "# Préparation des données pour le heatmatp\n",
    "combined_counts = pd.DataFrame({\n",
    "    'First_Position': nb_first_position,\n",
    "    'Second_Position': nb_second_position\n",
    "}).fillna(0)\n",
    "\n",
    "plt.figure(figsize=(15, 6))\n",
    "sns.heatmap(combined_counts.T, cmap='YlGnBu')\n",
    "plt.title('Nombre de combats par position pour chaque Pokémon')\n",
    "plt.show()"
   ]
  },
  {
   "cell_type": "markdown",
   "id": "78addf88-a086-4ed1-bc1b-fa207177954f",
   "metadata": {},
   "source": [
    "On voit que de façon générale les pokemons ont tous combatus autour de 40x par position.  \n",
    "Mais on peut vérifier la distribution des combats par pokemon avec des boites à moustache pour avoir plus de détail."
   ]
  },
  {
   "cell_type": "markdown",
   "id": "bcb021e7-fe70-4a7a-8501-d81ef9574cb2",
   "metadata": {},
   "source": [
    "#### Distribution des combats par Pokemon par position"
   ]
  },
  {
   "cell_type": "code",
   "execution_count": 40,
   "id": "15199d00-2134-4ad5-8410-4f3a105c5da1",
   "metadata": {
    "tags": []
   },
   "outputs": [
    {
     "data": {
      "image/png": "[encoded data removed]",
      "text/plain": [
       "<Figure size 800x600 with 1 Axes>"
      ]
     },
     "metadata": {},
     "output_type": "display_data"
    }
   ],
   "source": [
    "# Préparation des données pour le boxplot\n",
    "data_melted = combined_counts.melt(value_vars=['First_Position', 'Second_Position'], \n",
    "                                   var_name='Position', \n",
    "                                   value_name='Number of Fights')\n",
    "\n",
    "plt.figure(figsize=(8,6))\n",
    "sns.boxplot(x='Position', y='Number of Fights', data=data_melted)\n",
    "plt.title('Distribution du nombre de combats par position')\n",
    "plt.show()"
   ]
  },
  {
   "cell_type": "markdown",
   "id": "5bd86119-6426-4d46-a74c-f935ec0f3587",
   "metadata": {},
   "source": [
    "On voit clairement que 50% (Q1:25% à Q3:75%) des pokemons ont fait 60 à 70 combats.  \n",
    "Les min et les max sont à 40 et 85 combat, ce qui est cohérent avec le heatmap.  \n",
    "\n",
    "Par contre certaine valeur abérantes (losange) sont assez bassent. Ce qui pourrait poser problème si beaucoup de pokemon sont sous représentés. Pour en avoir le coeur-net on peut calculer combien de pokemon on fait moins de 40 combats en First_position et en Second_position."
   ]
  },
  {
   "cell_type": "code",
   "execution_count": 41,
   "id": "7ebbc695-ac7b-45f1-9a04-81083878eaa3",
   "metadata": {
    "tags": []
   },
   "outputs": [
    {
     "data": {
      "text/plain": [
       "First_pokemon\n",
       "398    38\n",
       "Name: count, dtype: int64"
      ]
     },
     "execution_count": 41,
     "metadata": {},
     "output_type": "execute_result"
    }
   ],
   "source": [
    "nb_first_position[nb_first_position < 40]"
   ]
  },
  {
   "cell_type": "code",
   "execution_count": 42,
   "id": "5b54f1d5-45d7-4ff5-913f-c2abc2dd0e7f",
   "metadata": {
    "tags": []
   },
   "outputs": [
    {
     "data": {
      "text/plain": [
       "Second_pokemon\n",
       "519    39\n",
       "Name: count, dtype: int64"
      ]
     },
     "execution_count": 42,
     "metadata": {},
     "output_type": "execute_result"
    }
   ],
   "source": [
    "nb_second_position[nb_second_position < 40]"
   ]
  },
  {
   "cell_type": "markdown",
   "id": "bf9f2a47-4856-4373-8ec2-3baa4c64c698",
   "metadata": {
    "tags": []
   },
   "source": [
    "  \n",
    "Après vérification, aucun pokemon n'a combattu trop peut de fois.  \n",
    "  \n",
    "**On peut donc dire que tous les pokemon, sont parfaitement représentés dans le dataset de combat**"
   ]
  },
  {
   "cell_type": "markdown",
   "id": "a0b56289-3ab2-4a46-aa5a-219fe95ed4a5",
   "metadata": {},
   "source": [
    "### Cas des Pokémon s'affrontant eux-mêmes\n",
    "Dans un combat Pokémon, on peut très bien faire combattre le même Pokémon. Pour déterminer quel Pokémon attaquera en 1er, on se base sur sa feature 'Speed' (le plus élevé commence). Quand 2 mêmes Pokémon se battent, leur 'Speed' est la même. En cas d'égalité, le Pokémon qui commence sera déterminé au hasard en lançant une pièce : P (A|B) : 50%. Dans ce cas, c'est TOUJOURS le pokémon qui commence qui gagnera le combat (sauf si son dresseur -- le joueur -- joue très très très mal)"
   ]
  },
  {
   "cell_type": "code",
   "execution_count": 43,
   "id": "bcdc8588-3825-4924-9d24-ae5cfc1f888e",
   "metadata": {},
   "outputs": [
    {
     "data": {
      "text/plain": [
       "First_pokemon     0\n",
       "Second_pokemon    0\n",
       "Winner            0\n",
       "dtype: int64"
      ]
     },
     "execution_count": 43,
     "metadata": {},
     "output_type": "execute_result"
    }
   ],
   "source": [
    "combats[combats['First_pokemon'] == combats['Second_pokemon']].count()"
   ]
  },
  {
   "cell_type": "markdown",
   "id": "9a681d58-5d31-4cc0-88ea-7a0a3ae5f572",
   "metadata": {},
   "source": [
    "Dans le dataset combats, on voit que ce cas de 2 mêmes pokémons qui se combattent n'est pas représenté. Ce qui peut indroduire dans le modèle des erreurs de prédiction (et ça va le faire, j'ai testé). Pour cela, je vais introduire dans le dataset combats, un ensemble de combat opposant chaque pokémon à lui-même 2x. 1x où c'est le pokémon en 1ere position qui gagnera et 1x où c'est le 2ieme (pour représenter la probabilité 50/50 de gagner)."
   ]
  },
  {
   "cell_type": "markdown",
   "id": "f8538c69-9e80-459f-ad47-fd1e3f885818",
   "metadata": {},
   "source": [
    "#### Ajout des combats contre eux-mêmes"
   ]
  },
  {
   "cell_type": "markdown",
   "id": "a918cdd5-0e19-49b1-add2-7dd7ee361aca",
   "metadata": {},
   "source": [
    "##### Création du label (y)\n",
    "Le but du model est de prédire si le Pokémon en 2ieme position gagnera contre le Pokémon en 1ere position.  \n",
    "Donc à chaque fois que le 2ieme Pokémon sera déclaré gagné dans les données d'entrainement, on indiquera 1 si non 0."
   ]
  },
  {
   "cell_type": "code",
   "execution_count": 44,
   "id": "b76f29a7-2d0f-4bcc-a249-7eddf3d90602",
   "metadata": {
    "tags": []
   },
   "outputs": [
    {
     "data": {
      "text/plain": [
       "array([ True, False])"
      ]
     },
     "execution_count": 44,
     "metadata": {},
     "output_type": "execute_result"
    }
   ],
   "source": [
    "combats['Winner'] = combats['Winner'] == combats['Second_pokemon'].astype(int)\n",
    "combats['Winner'].unique()"
   ]
  },
  {
   "cell_type": "code",
   "execution_count": 45,
   "id": "eb9b0688-fc6d-4a90-9311-9ce05ba04fad",
   "metadata": {
    "tags": []
   },
   "outputs": [
    {
     "data": {
      "text/plain": [
       "800"
      ]
     },
     "execution_count": 45,
     "metadata": {},
     "output_type": "execute_result"
    }
   ],
   "source": [
    "nb_pokemon = pokedex['#'].count()\n",
    "nb_pokemon"
   ]
  },
  {
   "cell_type": "code",
   "execution_count": 46,
   "id": "23e65c12-7de2-42d6-8241-49b01a718257",
   "metadata": {
    "tags": []
   },
   "outputs": [
    {
     "data": {
      "text/html": [
       "<div>\n",
       "<style scoped>\n",
       "    .dataframe tbody tr th:only-of-type {\n",
       "        vertical-align: middle;\n",
       "    }\n",
       "\n",
       "    .dataframe tbody tr th {\n",
       "        vertical-align: top;\n",
       "    }\n",
       "\n",
       "    .dataframe thead th {\n",
       "        text-align: right;\n",
       "    }\n",
       "</style>\n",
       "<table border=\"1\" class=\"dataframe\">\n",
       "  <thead>\n",
       "    <tr style=\"text-align: right;\">\n",
       "      <th></th>\n",
       "      <th>First_pokemon</th>\n",
       "      <th>Second_pokemon</th>\n",
       "      <th>Winner</th>\n",
       "    </tr>\n",
       "  </thead>\n",
       "  <tbody>\n",
       "    <tr>\n",
       "      <th>50030</th>\n",
       "      <td>31</td>\n",
       "      <td>31</td>\n",
       "      <td>0</td>\n",
       "    </tr>\n",
       "    <tr>\n",
       "      <th>50830</th>\n",
       "      <td>31</td>\n",
       "      <td>31</td>\n",
       "      <td>1</td>\n",
       "    </tr>\n",
       "  </tbody>\n",
       "</table>\n",
       "</div>"
      ],
      "text/plain": [
       "       First_pokemon  Second_pokemon  Winner\n",
       "50030             31              31       0\n",
       "50830             31              31       1"
      ]
     },
     "execution_count": 46,
     "metadata": {},
     "output_type": "execute_result"
    }
   ],
   "source": [
    "# Créer le DataFrame pour les défaites (où le premier Pokémon perd)\n",
    "defeats = pd.DataFrame({'First_pokemon': range(1, nb_pokemon + 1), 'Second_pokemon': range(1, nb_pokemon + 1), 'Winner': [0] * nb_pokemon})\n",
    "wins = pd.DataFrame({'First_pokemon': range(1, nb_pokemon + 1), 'Second_pokemon': range(1, nb_pokemon + 1), 'Winner': [1] * nb_pokemon})\n",
    "\n",
    "combats = pd.concat([combats, defeats, wins]).reset_index(drop=True)\n",
    "\n",
    "\n",
    "combats[(combats['First_pokemon'] == 31) & (combats['Second_pokemon'] == 31)]"
   ]
  },
  {
   "cell_type": "markdown",
   "id": "bc4e5ba0-c428-4dcf-9ac6-c03128c61532",
   "metadata": {},
   "source": [
    "**ATTENTION :** après une concaténation avec pandas, les dataframes ne sont pas \"collé\" à la suite, mais réindexé (trié). Ici la colonne Winner, 0 est contenu dans toutes les 1ere lignes, alors que 1 est dans les dernières.\n",
    "\n",
    "**Il faudra stratifié les données d'entrainement pour être certain que les 2 catégories seront bien représentées**"
   ]
  },
  {
   "cell_type": "markdown",
   "id": "d4106d0e-e8d2-41e7-b5b1-2e98c99af911",
   "metadata": {
    "tags": []
   },
   "source": [
    "# Création du model de Machine Learning"
   ]
  },
  {
   "cell_type": "markdown",
   "id": "68e10144-3bfa-48f2-9e86-a7d032c4c545",
   "metadata": {},
   "source": [
    "## Préparation des données pour le Machine Learning"
   ]
  },
  {
   "cell_type": "markdown",
   "id": "66b169a4-8f89-4ec8-bef4-1098526f8f56",
   "metadata": {},
   "source": [
    "### Création des données d'entrainement et de test"
   ]
  },
  {
   "cell_type": "code",
   "execution_count": 31,
   "id": "a05a1c01-cde8-4742-b9a6-c6ebb55d9c82",
   "metadata": {
    "tags": []
   },
   "outputs": [
    {
     "data": {
      "text/plain": [
       "Index(['First_pokemon', 'Second_pokemon', 'Winner', '#_1', 'Type 1_1',\n",
       "       'Type 2_1', 'HP_1', 'Attack_1', 'Defense_1', 'Sp. Atk_1', 'Sp. Def_1',\n",
       "       'Speed_1', '#_2', 'Type 1_2', 'Type 2_2', 'HP_2', 'Attack_2',\n",
       "       'Defense_2', 'Sp. Atk_2', 'Sp. Def_2', 'Speed_2'],\n",
       "      dtype='object')"
      ]
     },
     "execution_count": 31,
     "metadata": {},
     "output_type": "execute_result"
    }
   ],
   "source": [
    "# Retire les features à exclure\n",
    "pokedex_features = pokedex.drop(columns=['Name', 'Generation', 'Legendary'])\n",
    "\n",
    "# Remplace l'index du pokemon par ses features\n",
    "train_df = combats.merge(pokedex_features, left_on='First_pokemon', right_on='#', suffixes=('', '_1'))\n",
    "train_df = train_df.merge(pokedex_features, left_on='Second_pokemon', right_on='#', suffixes=('_1', '_2'))\n",
    "\n",
    "train_df.columns"
   ]
  },
  {
   "cell_type": "code",
   "execution_count": 32,
   "id": "7c0c33c3-b0d7-4cee-a4e4-60f09a96498c",
   "metadata": {
    "tags": []
   },
   "outputs": [
    {
     "data": {
      "text/html": [
       "<div>\n",
       "<style scoped>\n",
       "    .dataframe tbody tr th:only-of-type {\n",
       "        vertical-align: middle;\n",
       "    }\n",
       "\n",
       "    .dataframe tbody tr th {\n",
       "        vertical-align: top;\n",
       "    }\n",
       "\n",
       "    .dataframe thead th {\n",
       "        text-align: right;\n",
       "    }\n",
       "</style>\n",
       "<table border=\"1\" class=\"dataframe\">\n",
       "  <thead>\n",
       "    <tr style=\"text-align: right;\">\n",
       "      <th></th>\n",
       "      <th>Winner</th>\n",
       "      <th>Type 1_1</th>\n",
       "      <th>Type 2_1</th>\n",
       "      <th>HP_1</th>\n",
       "      <th>Attack_1</th>\n",
       "      <th>Defense_1</th>\n",
       "      <th>Sp. Atk_1</th>\n",
       "      <th>Sp. Def_1</th>\n",
       "      <th>Speed_1</th>\n",
       "      <th>Type 1_2</th>\n",
       "      <th>Type 2_2</th>\n",
       "      <th>HP_2</th>\n",
       "      <th>Attack_2</th>\n",
       "      <th>Defense_2</th>\n",
       "      <th>Sp. Atk_2</th>\n",
       "      <th>Sp. Def_2</th>\n",
       "      <th>Speed_2</th>\n",
       "    </tr>\n",
       "  </thead>\n",
       "  <tbody>\n",
       "    <tr>\n",
       "      <th>0</th>\n",
       "      <td>1</td>\n",
       "      <td>Rock</td>\n",
       "      <td>Ground</td>\n",
       "      <td>50</td>\n",
       "      <td>64</td>\n",
       "      <td>50</td>\n",
       "      <td>45</td>\n",
       "      <td>50</td>\n",
       "      <td>41</td>\n",
       "      <td>Grass</td>\n",
       "      <td>Dark</td>\n",
       "      <td>70</td>\n",
       "      <td>70</td>\n",
       "      <td>40</td>\n",
       "      <td>60</td>\n",
       "      <td>40</td>\n",
       "      <td>60</td>\n",
       "    </tr>\n",
       "    <tr>\n",
       "      <th>1</th>\n",
       "      <td>1</td>\n",
       "      <td>Fighting</td>\n",
       "      <td>no_type_2</td>\n",
       "      <td>70</td>\n",
       "      <td>80</td>\n",
       "      <td>50</td>\n",
       "      <td>35</td>\n",
       "      <td>35</td>\n",
       "      <td>35</td>\n",
       "      <td>Grass</td>\n",
       "      <td>Dark</td>\n",
       "      <td>70</td>\n",
       "      <td>70</td>\n",
       "      <td>40</td>\n",
       "      <td>60</td>\n",
       "      <td>40</td>\n",
       "      <td>60</td>\n",
       "    </tr>\n",
       "    <tr>\n",
       "      <th>2</th>\n",
       "      <td>1</td>\n",
       "      <td>Water</td>\n",
       "      <td>Ground</td>\n",
       "      <td>110</td>\n",
       "      <td>78</td>\n",
       "      <td>73</td>\n",
       "      <td>76</td>\n",
       "      <td>71</td>\n",
       "      <td>60</td>\n",
       "      <td>Grass</td>\n",
       "      <td>Dark</td>\n",
       "      <td>70</td>\n",
       "      <td>70</td>\n",
       "      <td>40</td>\n",
       "      <td>60</td>\n",
       "      <td>40</td>\n",
       "      <td>60</td>\n",
       "    </tr>\n",
       "    <tr>\n",
       "      <th>3</th>\n",
       "      <td>0</td>\n",
       "      <td>Electric</td>\n",
       "      <td>Flying</td>\n",
       "      <td>50</td>\n",
       "      <td>65</td>\n",
       "      <td>107</td>\n",
       "      <td>105</td>\n",
       "      <td>107</td>\n",
       "      <td>86</td>\n",
       "      <td>Grass</td>\n",
       "      <td>Dark</td>\n",
       "      <td>70</td>\n",
       "      <td>70</td>\n",
       "      <td>40</td>\n",
       "      <td>60</td>\n",
       "      <td>40</td>\n",
       "      <td>60</td>\n",
       "    </tr>\n",
       "    <tr>\n",
       "      <th>4</th>\n",
       "      <td>0</td>\n",
       "      <td>Normal</td>\n",
       "      <td>no_type_2</td>\n",
       "      <td>73</td>\n",
       "      <td>115</td>\n",
       "      <td>60</td>\n",
       "      <td>60</td>\n",
       "      <td>60</td>\n",
       "      <td>90</td>\n",
       "      <td>Grass</td>\n",
       "      <td>Dark</td>\n",
       "      <td>70</td>\n",
       "      <td>70</td>\n",
       "      <td>40</td>\n",
       "      <td>60</td>\n",
       "      <td>40</td>\n",
       "      <td>60</td>\n",
       "    </tr>\n",
       "  </tbody>\n",
       "</table>\n",
       "</div>"
      ],
      "text/plain": [
       "   Winner  Type 1_1   Type 2_1  HP_1  Attack_1  Defense_1  Sp. Atk_1  \\\n",
       "0       1      Rock     Ground    50        64         50         45   \n",
       "1       1  Fighting  no_type_2    70        80         50         35   \n",
       "2       1     Water     Ground   110        78         73         76   \n",
       "3       0  Electric     Flying    50        65        107        105   \n",
       "4       0    Normal  no_type_2    73       115         60         60   \n",
       "\n",
       "   Sp. Def_1  Speed_1 Type 1_2 Type 2_2  HP_2  Attack_2  Defense_2  Sp. Atk_2  \\\n",
       "0         50       41    Grass     Dark    70        70         40         60   \n",
       "1         35       35    Grass     Dark    70        70         40         60   \n",
       "2         71       60    Grass     Dark    70        70         40         60   \n",
       "3        107       86    Grass     Dark    70        70         40         60   \n",
       "4         60       90    Grass     Dark    70        70         40         60   \n",
       "\n",
       "   Sp. Def_2  Speed_2  \n",
       "0         40       60  \n",
       "1         40       60  \n",
       "2         40       60  \n",
       "3         40       60  \n",
       "4         40       60  "
      ]
     },
     "execution_count": 32,
     "metadata": {},
     "output_type": "execute_result"
    }
   ],
   "source": [
    "# Supprime les colonnes innutiles\n",
    "train_df = train_df.drop(columns=[\n",
    "    'First_pokemon', \n",
    "    'Second_pokemon', \n",
    "    '#_1', \n",
    "    '#_2'\n",
    "])\n",
    "\n",
    "train_df.head(5)"
   ]
  },
  {
   "cell_type": "code",
   "execution_count": 33,
   "id": "2da927e1-c4db-4e8a-8de8-a64cff64809d",
   "metadata": {
    "tags": []
   },
   "outputs": [
    {
     "name": "stdout",
     "output_type": "stream",
     "text": [
      "x_train: (41280, 86)  y_train: (41280,)\n",
      "x_test: (10320, 86)  y_test: (10320,)\n"
     ]
    },
    {
     "data": {
      "text/plain": [
       "array([ 60., 115., 105.,  65.,  70.,  80.,  90.,  93.,  55.,  70.,  55.,\n",
       "        55.,   0.,   0.,   0.,   0.,   0.,   0.,   0.,   0.,   0.,   0.,\n",
       "         0.,   0.,   0.,   0.,   0.,   1.,   0.,   0.,   0.,   0.,   0.,\n",
       "         0.,   0.,   0.,   1.,   0.,   0.,   0.,   0.,   0.,   0.,   0.,\n",
       "         0.,   0.,   0.,   0.,   0.,   0.,   0.,   0.,   0.,   0.,   0.,\n",
       "         0.,   0.,   0.,   0.,   0.,   0.,   0.,   0.,   0.,   0.,   1.,\n",
       "         0.,   0.,   0.,   0.,   0.,   0.,   1.,   0.,   0.,   0.,   0.,\n",
       "         0.,   0.,   0.,   0.,   0.,   0.,   0.,   0.,   0.])"
      ]
     },
     "execution_count": 33,
     "metadata": {},
     "output_type": "execute_result"
    }
   ],
   "source": [
    "# Prépare les données pour l'entrainement du model\n",
    "pitcher = Pitch()\n",
    "\n",
    "x_train, y_train, x_test, y_test = pitcher.pitch_data(\n",
    "    train_df, \n",
    "    y_name = 'Winner',\n",
    "    one_hot = ['Type 1_1','Type 1_2', 'Type 2_1', 'Type 2_2'],\n",
    "    seed = 1\n",
    ")\n",
    "\n",
    "print(f\"x_train: {x_train.shape}  y_train: {y_train.shape}\")\n",
    "print(f\"x_test: {x_test.shape}  y_test: {y_test.shape}\")\n",
    "\n",
    "x_train[0]"
   ]
  },
  {
   "cell_type": "markdown",
   "id": "4f9726f2-c0bf-4334-8919-9ddd1c63a082",
   "metadata": {
    "tags": []
   },
   "source": [
    "## Modèle : XGBoost Classifier"
   ]
  },
  {
   "cell_type": "markdown",
   "id": "7b997ca5-3493-4985-adce-9901ed8dd9a9",
   "metadata": {},
   "source": [
    "### Création en Entrainement"
   ]
  },
  {
   "cell_type": "code",
   "execution_count": 34,
   "id": "25d9bcf2-f6d2-475e-8b37-a56da7303a4e",
   "metadata": {},
   "outputs": [
    {
     "data": {
      "text/html": [
       "<style>#sk-container-id-1 {color: black;}#sk-container-id-1 pre{padding: 0;}#sk-container-id-1 div.sk-toggleable {background-color: white;}#sk-container-id-1 label.sk-toggleable__label {cursor: pointer;display: block;width: 100%;margin-bottom: 0;padding: 0.3em;box-sizing: border-box;text-align: center;}#sk-container-id-1 label.sk-toggleable__label-arrow:before {content: \"▸\";float: left;margin-right: 0.25em;color: #696969;}#sk-container-id-1 label.sk-toggleable__label-arrow:hover:before {color: black;}#sk-container-id-1 div.sk-estimator:hover label.sk-toggleable__label-arrow:before {color: black;}#sk-container-id-1 div.sk-toggleable__content {max-height: 0;max-width: 0;overflow: hidden;text-align: left;background-color: #f0f8ff;}#sk-container-id-1 div.sk-toggleable__content pre {margin: 0.2em;color: black;border-radius: 0.25em;background-color: #f0f8ff;}#sk-container-id-1 input.sk-toggleable__control:checked~div.sk-toggleable__content {max-height: 200px;max-width: 100%;overflow: auto;}#sk-container-id-1 input.sk-toggleable__control:checked~label.sk-toggleable__label-arrow:before {content: \"▾\";}#sk-container-id-1 div.sk-estimator input.sk-toggleable__control:checked~label.sk-toggleable__label {background-color: #d4ebff;}#sk-container-id-1 div.sk-label input.sk-toggleable__control:checked~label.sk-toggleable__label {background-color: #d4ebff;}#sk-container-id-1 input.sk-hidden--visually {border: 0;clip: rect(1px 1px 1px 1px);clip: rect(1px, 1px, 1px, 1px);height: 1px;margin: -1px;overflow: hidden;padding: 0;position: absolute;width: 1px;}#sk-container-id-1 div.sk-estimator {font-family: monospace;background-color: #f0f8ff;border: 1px dotted black;border-radius: 0.25em;box-sizing: border-box;margin-bottom: 0.5em;}#sk-container-id-1 div.sk-estimator:hover {background-color: #d4ebff;}#sk-container-id-1 div.sk-parallel-item::after {content: \"\";width: 100%;border-bottom: 1px solid gray;flex-grow: 1;}#sk-container-id-1 div.sk-label:hover label.sk-toggleable__label {background-color: #d4ebff;}#sk-container-id-1 div.sk-serial::before {content: \"\";position: absolute;border-left: 1px solid gray;box-sizing: border-box;top: 0;bottom: 0;left: 50%;z-index: 0;}#sk-container-id-1 div.sk-serial {display: flex;flex-direction: column;align-items: center;background-color: white;padding-right: 0.2em;padding-left: 0.2em;position: relative;}#sk-container-id-1 div.sk-item {position: relative;z-index: 1;}#sk-container-id-1 div.sk-parallel {display: flex;align-items: stretch;justify-content: center;background-color: white;position: relative;}#sk-container-id-1 div.sk-item::before, #sk-container-id-1 div.sk-parallel-item::before {content: \"\";position: absolute;border-left: 1px solid gray;box-sizing: border-box;top: 0;bottom: 0;left: 50%;z-index: -1;}#sk-container-id-1 div.sk-parallel-item {display: flex;flex-direction: column;z-index: 1;position: relative;background-color: white;}#sk-container-id-1 div.sk-parallel-item:first-child::after {align-self: flex-end;width: 50%;}#sk-container-id-1 div.sk-parallel-item:last-child::after {align-self: flex-start;width: 50%;}#sk-container-id-1 div.sk-parallel-item:only-child::after {width: 0;}#sk-container-id-1 div.sk-dashed-wrapped {border: 1px dashed gray;margin: 0 0.4em 0.5em 0.4em;box-sizing: border-box;padding-bottom: 0.4em;background-color: white;}#sk-container-id-1 div.sk-label label {font-family: monospace;font-weight: bold;display: inline-block;line-height: 1.2em;}#sk-container-id-1 div.sk-label-container {text-align: center;}#sk-container-id-1 div.sk-container {/* jupyter's `normalize.less` sets `[hidden] { display: none; }` but bootstrap.min.css set `[hidden] { display: none !important; }` so we also need the `!important` here to be able to override the default hidden behavior on the sphinx rendered scikit-learn.org. See: https://github.com/scikit-learn/scikit-learn/issues/21755 */display: inline-block !important;position: relative;}#sk-container-id-1 div.sk-text-repr-fallback {display: none;}</style><div id=\"sk-container-id-1\" class=\"sk-top-container\"><div class=\"sk-text-repr-fallback\"><pre>XGBClassifier(base_score=None, booster=None, callbacks=None,\n",
       "              colsample_bylevel=None, colsample_bynode=None,\n",
       "              colsample_bytree=None, early_stopping_rounds=None,\n",
       "              enable_categorical=False, eval_metric=None, feature_types=None,\n",
       "              gamma=None, gpu_id=None, grow_policy=None, importance_type=None,\n",
       "              interaction_constraints=None, learning_rate=None, max_bin=None,\n",
       "              max_cat_threshold=None, max_cat_to_onehot=None,\n",
       "              max_delta_step=None, max_depth=None, max_leaves=None,\n",
       "              min_child_weight=None, missing=nan, monotone_constraints=None,\n",
       "              n_estimators=100, n_jobs=None, num_parallel_tree=None,\n",
       "              predictor=None, random_state=None, ...)</pre><b>In a Jupyter environment, please rerun this cell to show the HTML representation or trust the notebook. <br />On GitHub, the HTML representation is unable to render, please try loading this page with nbviewer.org.</b></div><div class=\"sk-container\" hidden><div class=\"sk-item\"><div class=\"sk-estimator sk-toggleable\"><input class=\"sk-toggleable__control sk-hidden--visually\" id=\"sk-estimator-id-1\" type=\"checkbox\" checked><label for=\"sk-estimator-id-1\" class=\"sk-toggleable__label sk-toggleable__label-arrow\">XGBClassifier</label><div class=\"sk-toggleable__content\"><pre>XGBClassifier(base_score=None, booster=None, callbacks=None,\n",
       "              colsample_bylevel=None, colsample_bynode=None,\n",
       "              colsample_bytree=None, early_stopping_rounds=None,\n",
       "              enable_categorical=False, eval_metric=None, feature_types=None,\n",
       "              gamma=None, gpu_id=None, grow_policy=None, importance_type=None,\n",
       "              interaction_constraints=None, learning_rate=None, max_bin=None,\n",
       "              max_cat_threshold=None, max_cat_to_onehot=None,\n",
       "              max_delta_step=None, max_depth=None, max_leaves=None,\n",
       "              min_child_weight=None, missing=nan, monotone_constraints=None,\n",
       "              n_estimators=100, n_jobs=None, num_parallel_tree=None,\n",
       "              predictor=None, random_state=None, ...)</pre></div></div></div></div></div>"
      ],
      "text/plain": [
       "XGBClassifier(base_score=None, booster=None, callbacks=None,\n",
       "              colsample_bylevel=None, colsample_bynode=None,\n",
       "              colsample_bytree=None, early_stopping_rounds=None,\n",
       "              enable_categorical=False, eval_metric=None, feature_types=None,\n",
       "              gamma=None, gpu_id=None, grow_policy=None, importance_type=None,\n",
       "              interaction_constraints=None, learning_rate=None, max_bin=None,\n",
       "              max_cat_threshold=None, max_cat_to_onehot=None,\n",
       "              max_delta_step=None, max_depth=None, max_leaves=None,\n",
       "              min_child_weight=None, missing=nan, monotone_constraints=None,\n",
       "              n_estimators=100, n_jobs=None, num_parallel_tree=None,\n",
       "              predictor=None, random_state=None, ...)"
      ]
     },
     "execution_count": 34,
     "metadata": {},
     "output_type": "execute_result"
    }
   ],
   "source": [
    "epoch = 100\n",
    "\n",
    "xgb_model = xgb.XGBClassifier(objective='binary:logistic', n_estimators=epoch, seed=1)\n",
    "xgb_model.fit(x_train, y_train)"
   ]
  },
  {
   "cell_type": "code",
   "execution_count": 35,
   "id": "fb6b31b1-132e-4b60-b0c3-24a222e68fa6",
   "metadata": {
    "tags": []
   },
   "outputs": [
    {
     "name": "stdout",
     "output_type": "stream",
     "text": [
      "Accuracy: 0.9524    Loss: 0.1183\n"
     ]
    }
   ],
   "source": [
    "acc = xgb_model.score(x_test, y_test)\n",
    "\n",
    "y_prob = xgb_model.predict_proba(x_test)[:, 1]\n",
    "loss = log_loss(y_test, y_prob)\n",
    "\n",
    "print(f\"Accuracy: {acc:.4f}    Loss: {loss:.4f}\")"
   ]
  },
  {
   "cell_type": "code",
   "execution_count": 36,
   "id": "ff0673df-77cd-4faf-b69a-5fb0211a7324",
   "metadata": {
    "tags": []
   },
   "outputs": [
    {
     "name": "stdout",
     "output_type": "stream",
     "text": [
      "Label: 1   Prediction: [[0.01165372 0.9883463 ]]\n"
     ]
    }
   ],
   "source": [
    "test_val = 1\n",
    "prediction = xgb_model.predict_proba(x_test[test_val].reshape(1, -1))\n",
    "\n",
    "print(f\"Label: {y_test[test_val]}   Prediction: {prediction}\")"
   ]
  },
  {
   "cell_type": "markdown",
   "id": "2f4bbe4c-056f-4884-8d4b-8949fa05e156",
   "metadata": {},
   "source": [
    "### Performance du model"
   ]
  },
  {
   "cell_type": "code",
   "execution_count": 37,
   "id": "8cf43d2c-aaca-4723-b18f-49b4767e2664",
   "metadata": {
    "tags": []
   },
   "outputs": [
    {
     "name": "stderr",
     "output_type": "stream",
     "text": [
      "/Users/kaham/anaconda3/lib/python3.11/site-packages/xgboost/core.py:617: FutureWarning: Pass `evals` as keyword args.\n",
      "  warnings.warn(msg, FutureWarning)\n"
     ]
    }
   ],
   "source": [
    "dtrain = xgb.DMatrix(x_train, label=y_train)\n",
    "dtest = xgb.DMatrix(x_test, label=y_test)\n",
    "\n",
    "params = {\n",
    "    'objective': 'binary:logistic',\n",
    "    'eval_metric': ['logloss', 'error']  # logloss pour le loss, error pour 1 - accuracy\n",
    "}\n",
    "\n",
    "evals = [(dtrain, 'train'), (dtest, 'test')]\n",
    "\n",
    "evals_result = {}\n",
    "bst = xgb.train(params, dtrain, epoch, evals, evals_result=evals_result, verbose_eval=False)"
   ]
  },
  {
   "cell_type": "code",
   "execution_count": 38,
   "id": "d14b03ee-a320-4776-8ab6-712301c9dc36",
   "metadata": {
    "tags": []
   },
   "outputs": [
    {
     "data": {
      "image/png": "[encoded data removed]",
      "text/plain": [
       "<Figure size 640x480 with 1 Axes>"
      ]
     },
     "metadata": {},
     "output_type": "display_data"
    }
   ],
   "source": [
    "# Pour le loss\n",
    "plt.plot(evals_result['train']['logloss'], label='Train')\n",
    "plt.plot(evals_result['test']['logloss'], label='Test')\n",
    "plt.xlabel('Époque')\n",
    "plt.ylabel('Logloss')\n",
    "plt.title('Évolution du Logloss pendant l\\'entraînement')\n",
    "plt.legend()\n",
    "plt.show()"
   ]
  },
  {
   "cell_type": "code",
   "execution_count": 39,
   "id": "030da75b-8540-462b-bc3d-f641f424521c",
   "metadata": {
    "tags": []
   },
   "outputs": [
    {
     "data": {
      "image/png": "[encoded data removed]",
      "text/plain": [
       "<Figure size 640x480 with 1 Axes>"
      ]
     },
     "metadata": {},
     "output_type": "display_data"
    }
   ],
   "source": [
    "# Pour l'accuracy\n",
    "plt.plot([1 - err for err in evals_result['train']['error']], label='Train')\n",
    "plt.plot([1 - err for err in evals_result['test']['error']], label='Test')\n",
    "plt.xlabel('Époque')\n",
    "plt.ylabel('Accuracy')\n",
    "plt.title('Évolution de l\\'Accuracy pendant l\\'entraînement')\n",
    "plt.legend()\n",
    "plt.show()"
   ]
  },
  {
   "cell_type": "markdown",
   "id": "f5b245d5-370f-455e-990c-a9bfea876702",
   "metadata": {},
   "source": [
    "### Validation croisée (Overfitting)"
   ]
  },
  {
   "cell_type": "code",
   "execution_count": 40,
   "id": "12fdc66e-6fc9-4e85-abe5-9aba1ead1615",
   "metadata": {
    "tags": []
   },
   "outputs": [
    {
     "name": "stdout",
     "output_type": "stream",
     "text": [
      "Accuracy: 0.95 (+/- 0.00)\n"
     ]
    }
   ],
   "source": [
    "X = np.concatenate((x_train, x_test), axis=0)\n",
    "Y = np.concatenate((y_train, y_test), axis=0)\n",
    "\n",
    "scores = cross_val_score(xgb_model, X, Y, cv=5, scoring='accuracy')\n",
    "print(\"Accuracy: %0.2f (+/- %0.2f)\" % (scores.mean(), scores.std() * 2))"
   ]
  },
  {
   "cell_type": "markdown",
   "id": "a92c16e9-2765-41e4-8dda-fdd6bf998184",
   "metadata": {},
   "source": [
    "Une précision de 0.95 sur l'entrainement et 0.95 sur la validation croisée avec une variance de 0.00 ne signal pas d'Overfitting. C'est Extrêment bien comme score !\n",
    "Voir exceptionnel ! \n",
    "\n",
    "Risque que les données ne soient pas représentative des cas réel.\n",
    "(A vérifier avec un test sur d'autres données)"
   ]
  },
  {
   "cell_type": "markdown",
   "id": "8a848ca8-2b5d-4969-a029-e52b20738186",
   "metadata": {},
   "source": [
    "## Sauvegarde du model"
   ]
  },
  {
   "cell_type": "markdown",
   "id": "aaf39d6b-2e3e-4d9a-87ca-eaf02e9fe0fd",
   "metadata": {},
   "source": [
    "### Sauvegarde"
   ]
  },
  {
   "cell_type": "code",
   "execution_count": 41,
   "id": "35adf499-9f84-4a6f-a0be-9a742d802687",
   "metadata": {
    "tags": []
   },
   "outputs": [
    {
     "data": {
      "text/plain": [
       "['pokemon_winner.mod']"
      ]
     },
     "execution_count": 41,
     "metadata": {},
     "output_type": "execute_result"
    }
   ],
   "source": [
    "dump(xgb_model, \"pokemon_winner.mod\")"
   ]
  },
  {
   "cell_type": "markdown",
   "id": "36193044-9b2d-499f-a65e-ee465b8919b7",
   "metadata": {},
   "source": [
    "### Chargement et test"
   ]
  },
  {
   "cell_type": "code",
   "execution_count": 42,
   "id": "0711bbd3-5aff-4421-8ce4-c4981d090aa2",
   "metadata": {
    "tags": []
   },
   "outputs": [
    {
     "name": "stdout",
     "output_type": "stream",
     "text": [
      "Label: 1   Prediction: [[0.01165372 0.9883463 ]]\n"
     ]
    }
   ],
   "source": [
    "loaded_model = load(\"pokemon_winner.mod\")\n",
    "\n",
    "test_val = 2\n",
    "prediction = loaded_model.predict_proba(x_test[test_val].reshape(1, -1))\n",
    "\n",
    "print(f\"Label: {y_test[test_val]}   Prediction: {prediction}\")"
   ]
  },
  {
   "cell_type": "markdown",
   "id": "c3ef0104-3ad6-4444-afff-63721ffaebad",
   "metadata": {},
   "source": [
    "### Sauvegarde des données du pokedex\n",
    "*(Les données ont étés nettoyées donc autant utiliser celles-là pour le client)*"
   ]
  },
  {
   "cell_type": "code",
   "execution_count": 43,
   "id": "2e4f1b26-4908-490d-8f98-fc88f5c18772",
   "metadata": {
    "tags": []
   },
   "outputs": [
    {
     "data": {
      "text/html": [
       "<div>\n",
       "<style scoped>\n",
       "    .dataframe tbody tr th:only-of-type {\n",
       "        vertical-align: middle;\n",
       "    }\n",
       "\n",
       "    .dataframe tbody tr th {\n",
       "        vertical-align: top;\n",
       "    }\n",
       "\n",
       "    .dataframe thead th {\n",
       "        text-align: right;\n",
       "    }\n",
       "</style>\n",
       "<table border=\"1\" class=\"dataframe\">\n",
       "  <thead>\n",
       "    <tr style=\"text-align: right;\">\n",
       "      <th></th>\n",
       "      <th>#</th>\n",
       "      <th>Name</th>\n",
       "      <th>Type 1</th>\n",
       "      <th>Type 2</th>\n",
       "      <th>HP</th>\n",
       "      <th>Attack</th>\n",
       "      <th>Defense</th>\n",
       "      <th>Sp. Atk</th>\n",
       "      <th>Sp. Def</th>\n",
       "      <th>Speed</th>\n",
       "      <th>Generation</th>\n",
       "      <th>Legendary</th>\n",
       "    </tr>\n",
       "  </thead>\n",
       "  <tbody>\n",
       "    <tr>\n",
       "      <th>0</th>\n",
       "      <td>1</td>\n",
       "      <td>Bulbasaur</td>\n",
       "      <td>Grass</td>\n",
       "      <td>Poison</td>\n",
       "      <td>45</td>\n",
       "      <td>49</td>\n",
       "      <td>49</td>\n",
       "      <td>65</td>\n",
       "      <td>65</td>\n",
       "      <td>45</td>\n",
       "      <td>1</td>\n",
       "      <td>False</td>\n",
       "    </tr>\n",
       "    <tr>\n",
       "      <th>1</th>\n",
       "      <td>2</td>\n",
       "      <td>Ivysaur</td>\n",
       "      <td>Grass</td>\n",
       "      <td>Poison</td>\n",
       "      <td>60</td>\n",
       "      <td>62</td>\n",
       "      <td>63</td>\n",
       "      <td>80</td>\n",
       "      <td>80</td>\n",
       "      <td>60</td>\n",
       "      <td>1</td>\n",
       "      <td>False</td>\n",
       "    </tr>\n",
       "    <tr>\n",
       "      <th>2</th>\n",
       "      <td>3</td>\n",
       "      <td>Venusaur</td>\n",
       "      <td>Grass</td>\n",
       "      <td>Poison</td>\n",
       "      <td>80</td>\n",
       "      <td>82</td>\n",
       "      <td>83</td>\n",
       "      <td>100</td>\n",
       "      <td>100</td>\n",
       "      <td>80</td>\n",
       "      <td>1</td>\n",
       "      <td>False</td>\n",
       "    </tr>\n",
       "  </tbody>\n",
       "</table>\n",
       "</div>"
      ],
      "text/plain": [
       "   #       Name Type 1  Type 2  HP  Attack  Defense  Sp. Atk  Sp. Def  Speed  \\\n",
       "0  1  Bulbasaur  Grass  Poison  45      49       49       65       65     45   \n",
       "1  2    Ivysaur  Grass  Poison  60      62       63       80       80     60   \n",
       "2  3   Venusaur  Grass  Poison  80      82       83      100      100     80   \n",
       "\n",
       "   Generation  Legendary  \n",
       "0           1      False  \n",
       "1           1      False  \n",
       "2           1      False  "
      ]
     },
     "execution_count": 43,
     "metadata": {},
     "output_type": "execute_result"
    }
   ],
   "source": [
    "pokedex.head(3)"
   ]
  },
  {
   "cell_type": "code",
   "execution_count": 44,
   "id": "3a9371b5-70c8-46f3-96f9-476b01737449",
   "metadata": {
    "tags": []
   },
   "outputs": [],
   "source": [
    "pokedex.to_csv(\"pokedex.csv\", index=False)"
   ]
  },
  {
   "cell_type": "markdown",
   "id": "14245be3-c0ba-43ba-b48b-1bd38776850c",
   "metadata": {},
   "source": [
    "## Sauvegarde de l'encoder"
   ]
  },
  {
   "cell_type": "code",
   "execution_count": 45,
   "id": "40ee86e0-edc9-4027-8de4-7b72c11373e8",
   "metadata": {
    "tags": []
   },
   "outputs": [],
   "source": [
    "pitcher.save('encoder_pokemon.ec')"
   ]
  },
  {
   "cell_type": "markdown",
   "id": "1665190e-9151-4827-aa0a-0ca6be7b46dd",
   "metadata": {},
   "source": [
    "# API"
   ]
  },
  {
   "cell_type": "markdown",
   "id": "d3fb48ed-8ac8-45d1-938f-9e8f619c4551",
   "metadata": {},
   "source": [
    "## API à mettre dans un fichier 'pokerate.py'"
   ]
  },
  {
   "cell_type": "code",
   "execution_count": 46,
   "id": "64e79a87-e4ae-4ac3-a403-458a1ed32989",
   "metadata": {
    "tags": []
   },
   "outputs": [],
   "source": [
    "# *************************************************************************************************************\n",
    "# How to using this API\n",
    "# *************************************************************************************************************\n",
    "# Comments 1 : You need to have those file in model directory\n",
    "# -- model/pokarate.py             (is this API file)\n",
    "# -- model/pokedex.csv             (is the pokedex)\n",
    "# -- model/pokemon_winner.mod      (is the IA model)\n",
    "# -- model/encoder_pokemon.ec      (is the encoder the IA model need to work)\n",
    "# -- model/pitch_data.py           (is a class the API need to work)\n",
    "# *************************************************************************************************************\n",
    "# Comments 2 : Actually the IA have difficulty to predict a 50/50% winner when the same pokemon are fighting\n",
    "# The best way to\n",
    "# *************************************************************************************************************\n",
    "# import pokarate.py\n",
    "#\n",
    "# pokerate_model = Pokerate()\n",
    "#\n",
    "# poke_1 = 1\n",
    "# poke_2 = 2\n",
    "# prediction = pokerate_model.predict_battle(poke_1, poke_2) # Use Pokemon index (from pokedex)\n",
    "#\n",
    "# print(f\"Pokemon 1 winning rate : {prediction[0, 0]:.2f}%\")\n",
    "# print(f\"Pokemon 2 winning rate : {prediction[0, 1]:.2f}%\")\n",
    "#\n",
    "# if prediction[0, 0] > prediction[0, 1]:\n",
    "#     print(f\"The winner is : {pokarate_model.get_poke_name(poke_1)}\")\n",
    "# else:\n",
    "#     print(f\"The winner is : {pokarate_model.get_poke_name(poke_2)}\")\n",
    "# *************************************************************************************************************\n",
    "\n",
    "import pandas as pd\n",
    "import numpy as np\n",
    "import joblib\n",
    "from model.pitch_class import Pitch\n",
    "\n",
    "class Pokerate():\n",
    "    pokedex = pd.read_csv('model/pokedex.csv')\n",
    "    _pokedex_features = pokedex.drop(columns=['Name', 'Generation', 'Legendary'])\n",
    "    _model = joblib.load('model/pokemon_winner.mod')\n",
    "\n",
    "    def __init__(self):\n",
    "        self.pitcher = Pitch()\n",
    "        self.pitcher.load('model/encoder_pokemon.ec')\n",
    "\n",
    "    def _prepare_data(self, poke_1, poke_2):\n",
    "        combats = pd.DataFrame({'First_pokemon': [poke_1], 'Second_pokemon' : [poke_2]})\n",
    "\n",
    "        train_df = combats.merge(self._pokedex_features, left_on='First_pokemon', right_on='#', suffixes=('', '_1'))\n",
    "        train_df = train_df.merge(self._pokedex_features, left_on='Second_pokemon', right_on='#', suffixes=('_1', '_2'))\n",
    "\n",
    "        train_df = train_df.drop(columns=['First_pokemon', 'Second_pokemon', '#_1', '#_2'])\n",
    "\n",
    "        encoded_data = self.pitcher.encode(train_df)\n",
    "\n",
    "        prepared_data = self.pitcher.pitch_data(encoded_data)\n",
    "\n",
    "        return prepared_data\n",
    "\n",
    "    def predict_battle(self, pokemon_index_1:int, pokemon_index_2:int) -> np.array:\n",
    "        battle_data = self._prepare_data(pokemon_index_1, pokemon_index_2)\n",
    "        prediction = self._model.predict_proba(battle_data)\n",
    "\n",
    "        return prediction\n",
    "\n",
    "    def get_poke_name(self, index_poke:int) -> pd.DataFrame:\n",
    "        return self.pokedex[self.pokedex['#'] == index_poke]['Name']\n",
    "\n",
    "    def get_poke_stats(self, index_poke) -> pd.DataFrame:\n",
    "        return self.pokedex[self.pokedex['#'] == index_poke]"
   ]
  },
  {
   "cell_type": "code",
   "execution_count": 51,
   "id": "0d66869c-5ff0-4691-b6cd-1d17a3e71c8f",
   "metadata": {
    "tags": []
   },
   "outputs": [
    {
     "ename": "NameError",
     "evalue": "name 'Pokerate' is not defined",
     "output_type": "error",
     "traceback": [
      "\u001b[0;31m---------------------------------------------------------------------------\u001b[0m",
      "\u001b[0;31mNameError\u001b[0m                                 Traceback (most recent call last)",
      "Cell \u001b[0;32mIn[51], line 1\u001b[0m\n\u001b[0;32m----> 1\u001b[0m pokerate_model \u001b[38;5;241m=\u001b[39m Pokerate()\n\u001b[1;32m      3\u001b[0m poke_1 \u001b[38;5;241m=\u001b[39m \u001b[38;5;241m1\u001b[39m\n\u001b[1;32m      4\u001b[0m poke_2 \u001b[38;5;241m=\u001b[39m \u001b[38;5;241m2\u001b[39m\n",
      "\u001b[0;31mNameError\u001b[0m: name 'Pokerate' is not defined"
     ]
    }
   ],
   "source": [
    "pokerate_model = Pokerate()\n",
    "\n",
    "poke_1 = 1\n",
    "poke_2 = 2\n",
    "prediction = pokerate_model.predict_battle(poke_1, poke_2) # Use Pokemon index (from pokedex)\n",
    "\n",
    "print(f\"Pokemon 1 winning rate : {prediction[0, 0]:.2f}%\")\n",
    "print(f\"Pokemon 2 winning rate : {prediction[0, 1]:.2f}%\")\n",
    "\n",
    "if prediction[0, 0] > prediction[0, 1]:\n",
    "    print(f\"The winner is : {pokerate_model.pokedex[pokerate_model.pokedex['#'] == poke_1]['Name'].item()}\")\n",
    "else:\n",
    "    print(f\"The winner is : {pokerate_model.pokedex[pokerate_model.pokedex['#'] == poke_2]['Name'].item()}\")"
   ]
  },
  {
   "cell_type": "code",
   "execution_count": 52,
   "id": "543fbe52-fa1b-4f2a-925d-dcbdb5d80267",
   "metadata": {},
   "outputs": [
    {
     "ename": "NameError",
     "evalue": "name 'poke_1' is not defined",
     "output_type": "error",
     "traceback": [
      "\u001b[0;31m---------------------------------------------------------------------------\u001b[0m",
      "\u001b[0;31mNameError\u001b[0m                                 Traceback (most recent call last)",
      "Cell \u001b[0;32mIn[52], line 1\u001b[0m\n\u001b[0;32m----> 1\u001b[0m pokedex[(pokedex[\u001b[38;5;124m'\u001b[39m\u001b[38;5;124m#\u001b[39m\u001b[38;5;124m'\u001b[39m] \u001b[38;5;241m==\u001b[39m poke_1) \u001b[38;5;241m|\u001b[39m (pokedex[\u001b[38;5;124m'\u001b[39m\u001b[38;5;124m#\u001b[39m\u001b[38;5;124m'\u001b[39m] \u001b[38;5;241m==\u001b[39m poke_2)]\n",
      "\u001b[0;31mNameError\u001b[0m: name 'poke_1' is not defined"
     ]
    }
   ],
   "source": [
    "pokedex[(pokedex['#'] == poke_1) | (pokedex['#'] == poke_2)]"
   ]
  },
  {
   "cell_type": "code",
   "execution_count": 73,
   "id": "ecea4be7-3c9b-4aa4-ba37-ec1aee730128",
   "metadata": {},
   "outputs": [
    {
     "data": {
      "text/html": [
       "<div>\n",
       "<style scoped>\n",
       "    .dataframe tbody tr th:only-of-type {\n",
       "        vertical-align: middle;\n",
       "    }\n",
       "\n",
       "    .dataframe tbody tr th {\n",
       "        vertical-align: top;\n",
       "    }\n",
       "\n",
       "    .dataframe thead th {\n",
       "        text-align: right;\n",
       "    }\n",
       "</style>\n",
       "<table border=\"1\" class=\"dataframe\">\n",
       "  <thead>\n",
       "    <tr style=\"text-align: right;\">\n",
       "      <th></th>\n",
       "      <th>First_pokemon</th>\n",
       "      <th>Second_pokemon</th>\n",
       "      <th>Winner</th>\n",
       "    </tr>\n",
       "  </thead>\n",
       "  <tbody>\n",
       "  </tbody>\n",
       "</table>\n",
       "</div>"
      ],
      "text/plain": [
       "Empty DataFrame\n",
       "Columns: [First_pokemon, Second_pokemon, Winner]\n",
       "Index: []"
      ]
     },
     "execution_count": 73,
     "metadata": {},
     "output_type": "execute_result"
    }
   ],
   "source": [
    "combats[(combats['First_pokemon'] == 547) & (combats['Second_pokemon'] == 123)]"
   ]
  },
  {
   "cell_type": "code",
   "execution_count": null,
   "id": "e27c1e44-fd7b-48cc-8c36-3d084850a7ef",
   "metadata": {},
   "outputs": [],
   "source": []
  }
 ],
 "metadata": {
  "kernelspec": {
   "display_name": "Python 3 (ipykernel)",
   "language": "python",
   "name": "python3"
  },
  "language_info": {
   "codemirror_mode": {
    "name": "ipython",
    "version": 3
   },
   "file_extension": ".py",
   "mimetype": "text/x-python",
   "name": "python",
   "nbconvert_exporter": "python",
   "pygments_lexer": "ipython3",
   "version": "3.11.5"
  },
  "toc-autonumbering": true
 },
 "nbformat": 4,
 "nbformat_minor": 5
}
